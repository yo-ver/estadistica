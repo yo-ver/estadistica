{
 "cells": [
  {
   "cell_type": "code",
   "execution_count": 19,
   "metadata": {},
   "outputs": [],
   "source": [
    "import numpy as np\n",
    "import pandas as pd"
   ]
  },
  {
   "cell_type": "markdown",
   "metadata": {},
   "source": [
    "## Algunos ejemplos con el archivo de cuestionario a estudiantes\n"
   ]
  },
  {
   "cell_type": "code",
   "execution_count": 21,
   "metadata": {
    "scrolled": true
   },
   "outputs": [],
   "source": [
    "data =pd.read_csv('nov-2021.csv',sep=';')"
   ]
  },
  {
   "cell_type": "code",
   "execution_count": 22,
   "metadata": {},
   "outputs": [
    {
     "data": {
      "text/html": [
       "<div>\n",
       "<style scoped>\n",
       "    .dataframe tbody tr th:only-of-type {\n",
       "        vertical-align: middle;\n",
       "    }\n",
       "\n",
       "    .dataframe tbody tr th {\n",
       "        vertical-align: top;\n",
       "    }\n",
       "\n",
       "    .dataframe thead th {\n",
       "        text-align: right;\n",
       "    }\n",
       "</style>\n",
       "<table border=\"1\" class=\"dataframe\">\n",
       "  <thead>\n",
       "    <tr style=\"text-align: right;\">\n",
       "      <th></th>\n",
       "      <th>Tipo Documento</th>\n",
       "      <th>Nro Documento</th>\n",
       "      <th>nombres</th>\n",
       "      <th>Apellido Paterno</th>\n",
       "      <th>Apellido Materno</th>\n",
       "      <th>comun_sexo_paciente</th>\n",
       "      <th>Celular</th>\n",
       "      <th>Teléfono</th>\n",
       "      <th>Edad</th>\n",
       "      <th>domicilio_residencia</th>\n",
       "      <th>...</th>\n",
       "      <th>dist_reniec</th>\n",
       "      <th>ubigeo_reniec</th>\n",
       "      <th>fecha_registro</th>\n",
       "      <th>TipoConglomerado</th>\n",
       "      <th>Conglomerado</th>\n",
       "      <th>id_ubigeo</th>\n",
       "      <th>cod_establecimiento_registra</th>\n",
       "      <th>cod_establecimiento_ejecuta</th>\n",
       "      <th>Establecimiento_Ejecuta</th>\n",
       "      <th>Etnia</th>\n",
       "    </tr>\n",
       "  </thead>\n",
       "  <tbody>\n",
       "    <tr>\n",
       "      <th>0</th>\n",
       "      <td>DNI</td>\n",
       "      <td>72405308.0</td>\n",
       "      <td>MARUJA</td>\n",
       "      <td>BARRIENTOS</td>\n",
       "      <td>CHUI</td>\n",
       "      <td>FEMENINO</td>\n",
       "      <td>927136328</td>\n",
       "      <td>927136328</td>\n",
       "      <td>27</td>\n",
       "      <td>INFORMACIÓN DE DOMICILIO</td>\n",
       "      <td>...</td>\n",
       "      <td>NaN</td>\n",
       "      <td>NaN</td>\n",
       "      <td>01/12/2021</td>\n",
       "      <td>NaN</td>\n",
       "      <td>NaN</td>\n",
       "      <td>80401.0</td>\n",
       "      <td>2341</td>\n",
       "      <td>00002341</td>\n",
       "      <td>CALCA</td>\n",
       "      <td>Mestizo</td>\n",
       "    </tr>\n",
       "    <tr>\n",
       "      <th>1</th>\n",
       "      <td>DNI</td>\n",
       "      <td>42630375.0</td>\n",
       "      <td>WILBERT</td>\n",
       "      <td>RODRIGUEZ</td>\n",
       "      <td>CASTRO</td>\n",
       "      <td>MASCULINO</td>\n",
       "      <td>927293567</td>\n",
       "      <td>927293567</td>\n",
       "      <td>37</td>\n",
       "      <td>INFORMACIÓN DE DOMICILIO</td>\n",
       "      <td>...</td>\n",
       "      <td>NaN</td>\n",
       "      <td>NaN</td>\n",
       "      <td>01/12/2021</td>\n",
       "      <td>NaN</td>\n",
       "      <td>NaN</td>\n",
       "      <td>80401.0</td>\n",
       "      <td>24584</td>\n",
       "      <td>00024584</td>\n",
       "      <td>VIRGEN GUADALUPE CUSCO</td>\n",
       "      <td>Mestizo</td>\n",
       "    </tr>\n",
       "    <tr>\n",
       "      <th>2</th>\n",
       "      <td>DNI</td>\n",
       "      <td>24460210.0</td>\n",
       "      <td>SEGUNDINO</td>\n",
       "      <td>CALISIN</td>\n",
       "      <td>SANCHEZ</td>\n",
       "      <td>MASCULINO</td>\n",
       "      <td>982002245</td>\n",
       "      <td>982002245</td>\n",
       "      <td>81</td>\n",
       "      <td>INFORMACIÓN DE DOMICILIO</td>\n",
       "      <td>...</td>\n",
       "      <td>NaN</td>\n",
       "      <td>NaN</td>\n",
       "      <td>01/12/2021</td>\n",
       "      <td>NaN</td>\n",
       "      <td>NaN</td>\n",
       "      <td>80401.0</td>\n",
       "      <td>2341</td>\n",
       "      <td>00002341</td>\n",
       "      <td>CALCA</td>\n",
       "      <td>Mestizo</td>\n",
       "    </tr>\n",
       "  </tbody>\n",
       "</table>\n",
       "<p>3 rows × 103 columns</p>\n",
       "</div>"
      ],
      "text/plain": [
       "  Tipo Documento  Nro Documento    nombres Apellido Paterno Apellido Materno  \\\n",
       "0            DNI     72405308.0     MARUJA       BARRIENTOS             CHUI   \n",
       "1            DNI     42630375.0    WILBERT        RODRIGUEZ           CASTRO   \n",
       "2            DNI     24460210.0  SEGUNDINO          CALISIN          SANCHEZ   \n",
       "\n",
       "  comun_sexo_paciente    Celular   Teléfono  Edad      domicilio_residencia  \\\n",
       "0            FEMENINO  927136328  927136328    27  INFORMACIÓN DE DOMICILIO   \n",
       "1           MASCULINO  927293567  927293567    37  INFORMACIÓN DE DOMICILIO   \n",
       "2           MASCULINO  982002245  982002245    81  INFORMACIÓN DE DOMICILIO   \n",
       "\n",
       "   ... dist_reniec ubigeo_reniec fecha_registro TipoConglomerado Conglomerado  \\\n",
       "0  ...         NaN           NaN     01/12/2021              NaN          NaN   \n",
       "1  ...         NaN           NaN     01/12/2021              NaN          NaN   \n",
       "2  ...         NaN           NaN     01/12/2021              NaN          NaN   \n",
       "\n",
       "  id_ubigeo cod_establecimiento_registra cod_establecimiento_ejecuta  \\\n",
       "0   80401.0                         2341                    00002341   \n",
       "1   80401.0                        24584                    00024584   \n",
       "2   80401.0                         2341                    00002341   \n",
       "\n",
       "  Establecimiento_Ejecuta    Etnia  \n",
       "0                   CALCA  Mestizo  \n",
       "1  VIRGEN GUADALUPE CUSCO  Mestizo  \n",
       "2                   CALCA  Mestizo  \n",
       "\n",
       "[3 rows x 103 columns]"
      ]
     },
     "execution_count": 22,
     "metadata": {},
     "output_type": "execute_result"
    }
   ],
   "source": [
    "data.head(3)"
   ]
  },
  {
   "cell_type": "code",
   "execution_count": 23,
   "metadata": {},
   "outputs": [
    {
     "data": {
      "text/html": [
       "<div>\n",
       "<style scoped>\n",
       "    .dataframe tbody tr th:only-of-type {\n",
       "        vertical-align: middle;\n",
       "    }\n",
       "\n",
       "    .dataframe tbody tr th {\n",
       "        vertical-align: top;\n",
       "    }\n",
       "\n",
       "    .dataframe thead th {\n",
       "        text-align: right;\n",
       "    }\n",
       "</style>\n",
       "<table border=\"1\" class=\"dataframe\">\n",
       "  <thead>\n",
       "    <tr style=\"text-align: right;\">\n",
       "      <th></th>\n",
       "      <th>Tipo Documento</th>\n",
       "      <th>Nro Documento</th>\n",
       "      <th>nombres</th>\n",
       "      <th>Apellido Paterno</th>\n",
       "      <th>Apellido Materno</th>\n",
       "      <th>comun_sexo_paciente</th>\n",
       "      <th>Celular</th>\n",
       "      <th>Teléfono</th>\n",
       "      <th>Edad</th>\n",
       "      <th>domicilio_residencia</th>\n",
       "      <th>...</th>\n",
       "      <th>dist_reniec</th>\n",
       "      <th>ubigeo_reniec</th>\n",
       "      <th>fecha_registro</th>\n",
       "      <th>TipoConglomerado</th>\n",
       "      <th>Conglomerado</th>\n",
       "      <th>id_ubigeo</th>\n",
       "      <th>cod_establecimiento_registra</th>\n",
       "      <th>cod_establecimiento_ejecuta</th>\n",
       "      <th>Establecimiento_Ejecuta</th>\n",
       "      <th>Etnia</th>\n",
       "    </tr>\n",
       "  </thead>\n",
       "  <tbody>\n",
       "    <tr>\n",
       "      <th>13208</th>\n",
       "      <td>DNI</td>\n",
       "      <td>23987860.0</td>\n",
       "      <td>JANET</td>\n",
       "      <td>BRICEÑO</td>\n",
       "      <td>AYBAR</td>\n",
       "      <td>FEMENINO</td>\n",
       "      <td>930324945</td>\n",
       "      <td>930324945.0</td>\n",
       "      <td>46</td>\n",
       "      <td>INFORMACIÓN DE DOMICILIO</td>\n",
       "      <td>...</td>\n",
       "      <td>NaN</td>\n",
       "      <td>NaN</td>\n",
       "      <td>13/12/2021</td>\n",
       "      <td>NaN</td>\n",
       "      <td>NaN</td>\n",
       "      <td>80108.0</td>\n",
       "      <td>2289</td>\n",
       "      <td>00002289</td>\n",
       "      <td>HOSPITAL DE APOYO DEPARTAMENTAL CUSCO</td>\n",
       "      <td>Mestizo</td>\n",
       "    </tr>\n",
       "  </tbody>\n",
       "</table>\n",
       "<p>1 rows × 103 columns</p>\n",
       "</div>"
      ],
      "text/plain": [
       "      Tipo Documento  Nro Documento nombres Apellido Paterno Apellido Materno  \\\n",
       "13208            DNI     23987860.0   JANET          BRICEÑO            AYBAR   \n",
       "\n",
       "      comun_sexo_paciente    Celular     Teléfono  Edad  \\\n",
       "13208            FEMENINO  930324945  930324945.0    46   \n",
       "\n",
       "           domicilio_residencia  ... dist_reniec ubigeo_reniec fecha_registro  \\\n",
       "13208  INFORMACIÓN DE DOMICILIO  ...         NaN           NaN     13/12/2021   \n",
       "\n",
       "      TipoConglomerado Conglomerado id_ubigeo cod_establecimiento_registra  \\\n",
       "13208              NaN          NaN   80108.0                         2289   \n",
       "\n",
       "      cod_establecimiento_ejecuta                Establecimiento_Ejecuta  \\\n",
       "13208                    00002289  HOSPITAL DE APOYO DEPARTAMENTAL CUSCO   \n",
       "\n",
       "         Etnia  \n",
       "13208  Mestizo  \n",
       "\n",
       "[1 rows x 103 columns]"
      ]
     },
     "execution_count": 23,
     "metadata": {},
     "output_type": "execute_result"
    }
   ],
   "source": [
    "data.tail(1)"
   ]
  },
  {
   "cell_type": "code",
   "execution_count": 24,
   "metadata": {
    "scrolled": true
   },
   "outputs": [
    {
     "data": {
      "text/plain": [
       "Index(['Tipo Documento', 'Nro Documento', 'nombres', 'Apellido Paterno',\n",
       "       'Apellido Materno', 'comun_sexo_paciente', 'Celular', 'Teléfono',\n",
       "       'Edad', 'domicilio_residencia',\n",
       "       ...\n",
       "       'dist_reniec', 'ubigeo_reniec', 'fecha_registro', 'TipoConglomerado',\n",
       "       'Conglomerado', 'id_ubigeo', 'cod_establecimiento_registra',\n",
       "       'cod_establecimiento_ejecuta', 'Establecimiento_Ejecuta', 'Etnia'],\n",
       "      dtype='object', length=103)"
      ]
     },
     "execution_count": 24,
     "metadata": {},
     "output_type": "execute_result"
    }
   ],
   "source": [
    "# Vemos las columnas originales\n",
    "data.columns\n"
   ]
  },
  {
   "cell_type": "code",
   "execution_count": 6,
   "metadata": {},
   "outputs": [],
   "source": [
    "# Modificamoslos nombres de las columnas en el dataframe (no en el archivo)\n",
    "estudiantes.columns = ['timestamp', 'nombre','país','ubicacion','experiencia',\n",
    "                      'educación', 'situacion-laboral', 'salario', 'interés','sexo'\n",
    "                      ]"
   ]
  },
  {
   "cell_type": "code",
   "execution_count": 7,
   "metadata": {},
   "outputs": [
    {
     "data": {
      "text/html": [
       "<div>\n",
       "<style scoped>\n",
       "    .dataframe tbody tr th:only-of-type {\n",
       "        vertical-align: middle;\n",
       "    }\n",
       "\n",
       "    .dataframe tbody tr th {\n",
       "        vertical-align: top;\n",
       "    }\n",
       "\n",
       "    .dataframe thead th {\n",
       "        text-align: right;\n",
       "    }\n",
       "</style>\n",
       "<table border=\"1\" class=\"dataframe\">\n",
       "  <thead>\n",
       "    <tr style=\"text-align: right;\">\n",
       "      <th></th>\n",
       "      <th>timestamp</th>\n",
       "      <th>nombre</th>\n",
       "      <th>país</th>\n",
       "      <th>ubicacion</th>\n",
       "      <th>experiencia</th>\n",
       "      <th>educación</th>\n",
       "      <th>situacion-laboral</th>\n",
       "      <th>salario</th>\n",
       "      <th>interés</th>\n",
       "      <th>sexo</th>\n",
       "    </tr>\n",
       "  </thead>\n",
       "  <tbody>\n",
       "    <tr>\n",
       "      <th>0</th>\n",
       "      <td>11/17/2019 17:40:13</td>\n",
       "      <td>Frank</td>\n",
       "      <td>México</td>\n",
       "      <td>Torres de Satélite, Naucalpan, México</td>\n",
       "      <td>Experto</td>\n",
       "      <td>20.0</td>\n",
       "      <td>Empleo de Tiempo Completo</td>\n",
       "      <td>75000.0</td>\n",
       "      <td>NaN</td>\n",
       "      <td>NaN</td>\n",
       "    </tr>\n",
       "    <tr>\n",
       "      <th>1</th>\n",
       "      <td>11/18/2019 18:42:19</td>\n",
       "      <td>Beatriz</td>\n",
       "      <td>México</td>\n",
       "      <td>NaN</td>\n",
       "      <td>Nula</td>\n",
       "      <td>6.0</td>\n",
       "      <td>Múltiples Empleos</td>\n",
       "      <td>NaN</td>\n",
       "      <td>Aprender a hacer gráficas</td>\n",
       "      <td>NaN</td>\n",
       "    </tr>\n",
       "    <tr>\n",
       "      <th>2</th>\n",
       "      <td>11/18/2019 18:47:54</td>\n",
       "      <td>Adriana</td>\n",
       "      <td>Canada</td>\n",
       "      <td>West Edmonton Mall, Edmonton, Canada</td>\n",
       "      <td>Regular</td>\n",
       "      <td>12.0</td>\n",
       "      <td>Trabajo por mi Cuenta (freelance)</td>\n",
       "      <td>68000.0</td>\n",
       "      <td>Aprender nuevas tecnologías</td>\n",
       "      <td>Mujer</td>\n",
       "    </tr>\n",
       "  </tbody>\n",
       "</table>\n",
       "</div>"
      ],
      "text/plain": [
       "             timestamp   nombre    país  \\\n",
       "0  11/17/2019 17:40:13    Frank  México   \n",
       "1  11/18/2019 18:42:19  Beatriz  México   \n",
       "2  11/18/2019 18:47:54  Adriana  Canada   \n",
       "\n",
       "                               ubicacion experiencia  educación  \\\n",
       "0  Torres de Satélite, Naucalpan, México     Experto       20.0   \n",
       "1                                    NaN        Nula        6.0   \n",
       "2   West Edmonton Mall, Edmonton, Canada     Regular       12.0   \n",
       "\n",
       "                   situacion-laboral  salario                      interés  \\\n",
       "0          Empleo de Tiempo Completo  75000.0                          NaN   \n",
       "1                  Múltiples Empleos      NaN    Aprender a hacer gráficas   \n",
       "2  Trabajo por mi Cuenta (freelance)  68000.0  Aprender nuevas tecnologías   \n",
       "\n",
       "    sexo  \n",
       "0    NaN  \n",
       "1    NaN  \n",
       "2  Mujer  "
      ]
     },
     "execution_count": 7,
     "metadata": {},
     "output_type": "execute_result"
    }
   ],
   "source": [
    "estudiantes.head(3)"
   ]
  },
  {
   "cell_type": "code",
   "execution_count": 8,
   "metadata": {},
   "outputs": [
    {
     "data": {
      "text/plain": [
       "3"
      ]
     },
     "execution_count": 8,
     "metadata": {},
     "output_type": "execute_result"
    }
   ],
   "source": [
    "# Obtenemos la cantidad de celdas donde no existe valor para sexo\n",
    "estudiantes['sexo'].isna().sum()\n"
   ]
  },
  {
   "cell_type": "code",
   "execution_count": 9,
   "metadata": {},
   "outputs": [
    {
     "data": {
      "text/html": [
       "<div>\n",
       "<style scoped>\n",
       "    .dataframe tbody tr th:only-of-type {\n",
       "        vertical-align: middle;\n",
       "    }\n",
       "\n",
       "    .dataframe tbody tr th {\n",
       "        vertical-align: top;\n",
       "    }\n",
       "\n",
       "    .dataframe thead th {\n",
       "        text-align: right;\n",
       "    }\n",
       "</style>\n",
       "<table border=\"1\" class=\"dataframe\">\n",
       "  <thead>\n",
       "    <tr style=\"text-align: right;\">\n",
       "      <th></th>\n",
       "      <th>timestamp</th>\n",
       "      <th>nombre</th>\n",
       "      <th>país</th>\n",
       "      <th>ubicacion</th>\n",
       "      <th>experiencia</th>\n",
       "      <th>educación</th>\n",
       "      <th>situacion-laboral</th>\n",
       "      <th>salario</th>\n",
       "      <th>interés</th>\n",
       "      <th>sexo</th>\n",
       "    </tr>\n",
       "  </thead>\n",
       "  <tbody>\n",
       "    <tr>\n",
       "      <th>0</th>\n",
       "      <td>11/17/2019 17:40:13</td>\n",
       "      <td>Frank</td>\n",
       "      <td>México</td>\n",
       "      <td>Torres de Satélite, Naucalpan, México</td>\n",
       "      <td>Experto</td>\n",
       "      <td>20.0</td>\n",
       "      <td>Empleo de Tiempo Completo</td>\n",
       "      <td>75000.0</td>\n",
       "      <td>NaN</td>\n",
       "      <td>NaN</td>\n",
       "    </tr>\n",
       "    <tr>\n",
       "      <th>1</th>\n",
       "      <td>11/18/2019 18:42:19</td>\n",
       "      <td>Beatriz</td>\n",
       "      <td>México</td>\n",
       "      <td>NaN</td>\n",
       "      <td>Nula</td>\n",
       "      <td>6.0</td>\n",
       "      <td>Múltiples Empleos</td>\n",
       "      <td>NaN</td>\n",
       "      <td>Aprender a hacer gráficas</td>\n",
       "      <td>NaN</td>\n",
       "    </tr>\n",
       "    <tr>\n",
       "      <th>103</th>\n",
       "      <td>11/22/2019 12:09:18</td>\n",
       "      <td>GORDO</td>\n",
       "      <td>COLOMBIA</td>\n",
       "      <td>CARTAGENA</td>\n",
       "      <td>Regular</td>\n",
       "      <td>16.0</td>\n",
       "      <td>Trabajo por mi Cuenta (freelance)</td>\n",
       "      <td>12500.0</td>\n",
       "      <td>MEJORAR MIS APTITUDES TECNICAS</td>\n",
       "      <td>NaN</td>\n",
       "    </tr>\n",
       "  </tbody>\n",
       "</table>\n",
       "</div>"
      ],
      "text/plain": [
       "               timestamp   nombre      país  \\\n",
       "0    11/17/2019 17:40:13    Frank    México   \n",
       "1    11/18/2019 18:42:19  Beatriz    México   \n",
       "103  11/22/2019 12:09:18    GORDO  COLOMBIA   \n",
       "\n",
       "                                 ubicacion experiencia  educación  \\\n",
       "0    Torres de Satélite, Naucalpan, México     Experto       20.0   \n",
       "1                                      NaN        Nula        6.0   \n",
       "103                              CARTAGENA     Regular       16.0   \n",
       "\n",
       "                     situacion-laboral  salario  \\\n",
       "0            Empleo de Tiempo Completo  75000.0   \n",
       "1                    Múltiples Empleos      NaN   \n",
       "103  Trabajo por mi Cuenta (freelance)  12500.0   \n",
       "\n",
       "                            interés sexo  \n",
       "0                               NaN  NaN  \n",
       "1         Aprender a hacer gráficas  NaN  \n",
       "103  MEJORAR MIS APTITUDES TECNICAS  NaN  "
      ]
     },
     "execution_count": 9,
     "metadata": {},
     "output_type": "execute_result"
    }
   ],
   "source": [
    "# Vemos las filas donde la columna sexo no tiene valor\n",
    "estudiantes[estudiantes['sexo'].isna()]"
   ]
  },
  {
   "cell_type": "code",
   "execution_count": 10,
   "metadata": {},
   "outputs": [
    {
     "data": {
      "text/plain": [
       "96"
      ]
     },
     "execution_count": 10,
     "metadata": {},
     "output_type": "execute_result"
    }
   ],
   "source": [
    "# Preguntamos por la cantidad de filas donde el país en México\n",
    "temp =estudiantes[(estudiantes['país']== 'México')]\n",
    "temp.shape[0]\n"
   ]
  },
  {
   "cell_type": "code",
   "execution_count": 11,
   "metadata": {},
   "outputs": [
    {
     "name": "stdout",
     "output_type": "stream",
     "text": [
      "               timestamp               nombre    país             ubicacion  \\\n",
      "10   11/18/2019 18:54:43                Jesus  Israel   Los altos del Golán   \n",
      "168   12/8/2019 19:40:51               Leonel  México                  CDMX   \n",
      "186    6/2/2020 21:47:58         Pedro Paramo  Belize           Belize City   \n",
      "189    6/2/2020 21:55:26  Johanna Smith Perez     USA  Boston Massachusetts   \n",
      "242  11/19/2020 22:24:12                Uriel  Mexico         Oaxaca,Oaxaca   \n",
      "\n",
      "    experiencia  educación          situacion-laboral      salario  \\\n",
      "10      Experto       30.0  Empleo de Tiempo Completo    1000000.0   \n",
      "168       Buena       20.0  Empleo de Tiempo Completo    2000000.0   \n",
      "186       Buena       20.0  Empleo de Tiempo Completo    1200000.0   \n",
      "189       Buena       21.0  Empleo de Tiempo Completo    2200000.0   \n",
      "242      Básica       30.0  Empleo de Tiempo Completo  150000000.0   \n",
      "\n",
      "                                           interés    sexo  \n",
      "10                             conocer nueva gente  Hombre  \n",
      "168                                       Personal  Hombre  \n",
      "186                         Mantenerme actualizado  Hombre  \n",
      "189        Convertirme en una cientifica de datos    Mujer  \n",
      "242  Aplicación correcta de visualización de datos  Hombre  \n"
     ]
    },
    {
     "data": {
      "text/plain": [
       "array([[<AxesSubplot:title={'center':'educación'}>,\n",
       "        <AxesSubplot:title={'center':'salario'}>]], dtype=object)"
      ]
     },
     "execution_count": 11,
     "metadata": {},
     "output_type": "execute_result"
    },
    {
     "data": {
      "image/png": "[encoded data removed]",
      "text/plain": [
       "<Figure size 432x288 with 2 Axes>"
      ]
     },
     "metadata": {
      "needs_background": "light"
     },
     "output_type": "display_data"
    }
   ],
   "source": [
    "#Dibujamos un histograma para las columnas con valores númericos\n",
    "# y que cumplan que el salario es mayor a 900000.00\n",
    "temp =estudiantes[(estudiantes['salario']> 900000.00)]\n",
    "print(temp.head())\n",
    "temp.hist()\n"
   ]
  },
  {
   "attachments": {
    "image.png": {
     "image/png": "[encoded data removed]"
    }
   },
   "cell_type": "markdown",
   "metadata": {},
   "source": [
    "# Datos del PIB de 2017 por país\n",
    "\n",
    "## Leemos los datos del archivo de origen\n",
    "\n",
    "**Nótese**: Lo leemos con la codificación en la que vienen los datos. Hay muchas codificaciones. Hoy en día la más estándar es **UTF-8**, pero este archivo en particular, se proporcionó con la codificación **ISO-8859-1** también conocida como **latin1**\n",
    "\n",
    "Algunos artículos sobre la codificación de caracteres:\n",
    "\n",
    "* https://en.wikipedia.org/wiki/Character_encoding\n",
    "* https://mincong.io/2019/04/07/understanding-iso-8859-1-and-utf-8/\n",
    "\n",
    "Noten el formaro del archivo csv que vamos a analizar\n",
    "![image.png](attachment:image.png)\n"
   ]
  },
  {
   "cell_type": "code",
   "execution_count": 27,
   "metadata": {},
   "outputs": [],
   "source": [
    "# No leemos las primeras  filas, ni el encabezado que esincorrecto\n",
    "gdp = pd.read_csv('gdp-csv-.csv', header=None, skiprows=5, encoding='iso-8859-1')"
   ]
  },
  {
   "cell_type": "code",
   "execution_count": 28,
   "metadata": {},
   "outputs": [
    {
     "data": {
      "text/html": [
       "<div>\n",
       "<style scoped>\n",
       "    .dataframe tbody tr th:only-of-type {\n",
       "        vertical-align: middle;\n",
       "    }\n",
       "\n",
       "    .dataframe tbody tr th {\n",
       "        vertical-align: top;\n",
       "    }\n",
       "\n",
       "    .dataframe thead th {\n",
       "        text-align: right;\n",
       "    }\n",
       "</style>\n",
       "<table border=\"1\" class=\"dataframe\">\n",
       "  <thead>\n",
       "    <tr style=\"text-align: right;\">\n",
       "      <th></th>\n",
       "      <th>0</th>\n",
       "      <th>1</th>\n",
       "      <th>2</th>\n",
       "      <th>3</th>\n",
       "      <th>4</th>\n",
       "      <th>5</th>\n",
       "      <th>6</th>\n",
       "      <th>7</th>\n",
       "      <th>8</th>\n",
       "      <th>9</th>\n",
       "      <th>10</th>\n",
       "    </tr>\n",
       "  </thead>\n",
       "  <tbody>\n",
       "    <tr>\n",
       "      <th>0</th>\n",
       "      <td>USA</td>\n",
       "      <td>1</td>\n",
       "      <td>NaN</td>\n",
       "      <td>United States</td>\n",
       "      <td>19,485,394</td>\n",
       "      <td>NaN</td>\n",
       "      <td>NaN</td>\n",
       "      <td>NaN</td>\n",
       "      <td>NaN</td>\n",
       "      <td>NaN</td>\n",
       "      <td>NaN</td>\n",
       "    </tr>\n",
       "    <tr>\n",
       "      <th>1</th>\n",
       "      <td>CHN</td>\n",
       "      <td>2</td>\n",
       "      <td>NaN</td>\n",
       "      <td>China</td>\n",
       "      <td>12,237,700</td>\n",
       "      <td>NaN</td>\n",
       "      <td>NaN</td>\n",
       "      <td>NaN</td>\n",
       "      <td>NaN</td>\n",
       "      <td>NaN</td>\n",
       "      <td>NaN</td>\n",
       "    </tr>\n",
       "    <tr>\n",
       "      <th>2</th>\n",
       "      <td>JPN</td>\n",
       "      <td>3</td>\n",
       "      <td>NaN</td>\n",
       "      <td>Japan</td>\n",
       "      <td>4,872,415</td>\n",
       "      <td>NaN</td>\n",
       "      <td>NaN</td>\n",
       "      <td>NaN</td>\n",
       "      <td>NaN</td>\n",
       "      <td>NaN</td>\n",
       "      <td>NaN</td>\n",
       "    </tr>\n",
       "    <tr>\n",
       "      <th>3</th>\n",
       "      <td>DEU</td>\n",
       "      <td>4</td>\n",
       "      <td>NaN</td>\n",
       "      <td>Germany</td>\n",
       "      <td>3,693,204</td>\n",
       "      <td>NaN</td>\n",
       "      <td>NaN</td>\n",
       "      <td>NaN</td>\n",
       "      <td>NaN</td>\n",
       "      <td>NaN</td>\n",
       "      <td>NaN</td>\n",
       "    </tr>\n",
       "    <tr>\n",
       "      <th>4</th>\n",
       "      <td>IND</td>\n",
       "      <td>5</td>\n",
       "      <td>NaN</td>\n",
       "      <td>India</td>\n",
       "      <td>2,650,725</td>\n",
       "      <td>NaN</td>\n",
       "      <td>NaN</td>\n",
       "      <td>NaN</td>\n",
       "      <td>NaN</td>\n",
       "      <td>NaN</td>\n",
       "      <td>NaN</td>\n",
       "    </tr>\n",
       "  </tbody>\n",
       "</table>\n",
       "</div>"
      ],
      "text/plain": [
       "    0  1   2              3             4    5   6   7   8   9   10\n",
       "0  USA  1 NaN  United States   19,485,394   NaN NaN NaN NaN NaN NaN\n",
       "1  CHN  2 NaN          China   12,237,700   NaN NaN NaN NaN NaN NaN\n",
       "2  JPN  3 NaN          Japan    4,872,415   NaN NaN NaN NaN NaN NaN\n",
       "3  DEU  4 NaN        Germany    3,693,204   NaN NaN NaN NaN NaN NaN\n",
       "4  IND  5 NaN          India    2,650,725   NaN NaN NaN NaN NaN NaN"
      ]
     },
     "execution_count": 28,
     "metadata": {},
     "output_type": "execute_result"
    }
   ],
   "source": [
    "gdp.head()"
   ]
  },
  {
   "cell_type": "markdown",
   "metadata": {},
   "source": [
    "## Eliminar columnas (datos) que no son necesarios\n",
    "\n",
    "Al explorar los datos, encontramos que se cargan muchas columnas que no tienen datos  y sus valores son **NaN** (Not a Number), por lo que podemos eliminar estos datos de forma segura, porque no los utilizaremos para nuestro análisis\n",
    "\n",
    "Aprovecharemos también para asignarle nombre a las columnas para facilitarnos el análisis, estos corresponden a los nombres del diccionario de datos, que generalmente acompaña a los datasets.  \n",
    "La función drop que utilizamos devuelve un nuevo DataFrame, con las columnas elimnadas. Si queremos modificar el dataframe orginal, establecemos el parámetro inplace en True y en ese caso la funcipon nada devuelve.\n"
   ]
  },
  {
   "cell_type": "code",
   "execution_count": 29,
   "metadata": {},
   "outputs": [],
   "source": [
    "# Eliminamos las columnas del dataframe original\n",
    "gdp.drop(columns=[2,5,6,7,8,9,10], inplace=True)\n",
    "# Cambiamos el nombre de las columnas\n",
    "gdp.columns=['abrev', 'rank', 'country', 'gdp']"
   ]
  },
  {
   "cell_type": "code",
   "execution_count": 30,
   "metadata": {},
   "outputs": [
    {
     "data": {
      "text/html": [
       "<div>\n",
       "<style scoped>\n",
       "    .dataframe tbody tr th:only-of-type {\n",
       "        vertical-align: middle;\n",
       "    }\n",
       "\n",
       "    .dataframe tbody tr th {\n",
       "        vertical-align: top;\n",
       "    }\n",
       "\n",
       "    .dataframe thead th {\n",
       "        text-align: right;\n",
       "    }\n",
       "</style>\n",
       "<table border=\"1\" class=\"dataframe\">\n",
       "  <thead>\n",
       "    <tr style=\"text-align: right;\">\n",
       "      <th></th>\n",
       "      <th>abrev</th>\n",
       "      <th>rank</th>\n",
       "      <th>country</th>\n",
       "      <th>gdp</th>\n",
       "    </tr>\n",
       "  </thead>\n",
       "  <tbody>\n",
       "    <tr>\n",
       "      <th>0</th>\n",
       "      <td>USA</td>\n",
       "      <td>1</td>\n",
       "      <td>United States</td>\n",
       "      <td>19,485,394</td>\n",
       "    </tr>\n",
       "    <tr>\n",
       "      <th>1</th>\n",
       "      <td>CHN</td>\n",
       "      <td>2</td>\n",
       "      <td>China</td>\n",
       "      <td>12,237,700</td>\n",
       "    </tr>\n",
       "    <tr>\n",
       "      <th>2</th>\n",
       "      <td>JPN</td>\n",
       "      <td>3</td>\n",
       "      <td>Japan</td>\n",
       "      <td>4,872,415</td>\n",
       "    </tr>\n",
       "    <tr>\n",
       "      <th>3</th>\n",
       "      <td>DEU</td>\n",
       "      <td>4</td>\n",
       "      <td>Germany</td>\n",
       "      <td>3,693,204</td>\n",
       "    </tr>\n",
       "    <tr>\n",
       "      <th>4</th>\n",
       "      <td>IND</td>\n",
       "      <td>5</td>\n",
       "      <td>India</td>\n",
       "      <td>2,650,725</td>\n",
       "    </tr>\n",
       "  </tbody>\n",
       "</table>\n",
       "</div>"
      ],
      "text/plain": [
       "  abrev rank        country           gdp\n",
       "0   USA    1  United States   19,485,394 \n",
       "1   CHN    2          China   12,237,700 \n",
       "2   JPN    3          Japan    4,872,415 \n",
       "3   DEU    4        Germany    3,693,204 \n",
       "4   IND    5          India    2,650,725 "
      ]
     },
     "execution_count": 30,
     "metadata": {},
     "output_type": "execute_result"
    }
   ],
   "source": [
    "gdp.head()"
   ]
  },
  {
   "cell_type": "markdown",
   "metadata": {},
   "source": [
    "## ELiminar los renglones sin datos\n",
    "\n",
    "Eliminamos los renglones que no tienen datos completos.\n",
    "\n",
    "Esto es una decisión del analista de datos. En algunos casos, es posible ***imputar*** los datos, esto es, **inventarnos** los datos con base en el conocimiento del juego de datos que tenemos, por ejemplo, puede decidirse que en una columna que contiene datos numéricos, los faltantes se *imputen* con un estimador de los datos que si existen, como puede ser la **media**, o la **mediana**, también es posible, sobre todo cuando se usan **series de datos** que se replique el valor anterior, el valor posterior, o la media entre el anterior y posterior.\n",
    "\n",
    "Puede funcionar para el análisis, pero siempre hay que tener en cuenta que se trata de una **aproximación** o de forma más precisa de una **estimación**\n",
    "\n",
    "Artículos sobre imputación:\n",
    "\n",
    "* https://repositorio.cepal.org/bitstream/handle/11362/4755/1/S0700590_es.pdf\n",
    "* https://es.wikipedia.org/wiki/Imputación_(estadística)  \n",
    "Guía del usuario para valores faltantes:  \n",
    "https://pandas.pydata.org/pandas-docs/stable/user_guide/missing_data.html#missing-data\n"
   ]
  },
  {
   "cell_type": "code",
   "execution_count": 31,
   "metadata": {},
   "outputs": [
    {
     "name": "stdout",
     "output_type": "stream",
     "text": [
      "324\n",
      "202\n"
     ]
    }
   ],
   "source": [
    "# Cantidad de filas antes de eliminar las filas con NaN\n",
    "print (gdp.shape[0])\n",
    "gdp.dropna(inplace=True)\n",
    "# Cantidad de filas después de eliminar las filas con NaN\n",
    "print (gdp.shape[0])"
   ]
  },
  {
   "cell_type": "markdown",
   "metadata": {},
   "source": [
    "## Describir los datos\n",
    "\n",
    "Veamos cuál es la naturaleza de los datos que tenemos, en qué rangos se encuentran, cuáles son los mínimos y máximos, etc."
   ]
  },
  {
   "cell_type": "code",
   "execution_count": 32,
   "metadata": {},
   "outputs": [
    {
     "data": {
      "text/html": [
       "<div>\n",
       "<style scoped>\n",
       "    .dataframe tbody tr th:only-of-type {\n",
       "        vertical-align: middle;\n",
       "    }\n",
       "\n",
       "    .dataframe tbody tr th {\n",
       "        vertical-align: top;\n",
       "    }\n",
       "\n",
       "    .dataframe thead th {\n",
       "        text-align: right;\n",
       "    }\n",
       "</style>\n",
       "<table border=\"1\" class=\"dataframe\">\n",
       "  <thead>\n",
       "    <tr style=\"text-align: right;\">\n",
       "      <th></th>\n",
       "      <th>abrev</th>\n",
       "      <th>rank</th>\n",
       "      <th>country</th>\n",
       "      <th>gdp</th>\n",
       "    </tr>\n",
       "  </thead>\n",
       "  <tbody>\n",
       "    <tr>\n",
       "      <th>count</th>\n",
       "      <td>202</td>\n",
       "      <td>202</td>\n",
       "      <td>202</td>\n",
       "      <td>202</td>\n",
       "    </tr>\n",
       "    <tr>\n",
       "      <th>unique</th>\n",
       "      <td>202</td>\n",
       "      <td>202</td>\n",
       "      <td>202</td>\n",
       "      <td>202</td>\n",
       "    </tr>\n",
       "    <tr>\n",
       "      <th>top</th>\n",
       "      <td>GRC</td>\n",
       "      <td>90</td>\n",
       "      <td>Poland</td>\n",
       "      <td>120,126</td>\n",
       "    </tr>\n",
       "    <tr>\n",
       "      <th>freq</th>\n",
       "      <td>1</td>\n",
       "      <td>1</td>\n",
       "      <td>1</td>\n",
       "      <td>1</td>\n",
       "    </tr>\n",
       "  </tbody>\n",
       "</table>\n",
       "</div>"
      ],
      "text/plain": [
       "       abrev rank country        gdp\n",
       "count    202  202     202        202\n",
       "unique   202  202     202        202\n",
       "top      GRC   90  Poland   120,126 \n",
       "freq       1    1       1          1"
      ]
     },
     "execution_count": 32,
     "metadata": {},
     "output_type": "execute_result"
    }
   ],
   "source": [
    "gdp.describe()"
   ]
  },
  {
   "cell_type": "markdown",
   "metadata": {},
   "source": [
    "## Convertir los datos\n",
    "\n",
    "En la columna **`gdp`** y **`rank`** encontramos que tenemos caracteres (string) en vez de datos numéricos, por lo que vamos a convertir esos datos a numéricos"
   ]
  },
  {
   "cell_type": "code",
   "execution_count": 33,
   "metadata": {},
   "outputs": [
    {
     "data": {
      "text/plain": [
       "abrev      object\n",
       "rank       object\n",
       "country    object\n",
       "gdp        object\n",
       "dtype: object"
      ]
     },
     "execution_count": 33,
     "metadata": {},
     "output_type": "execute_result"
    }
   ],
   "source": [
    "gdp.dtypes"
   ]
  },
  {
   "cell_type": "code",
   "execution_count": 35,
   "metadata": {},
   "outputs": [],
   "source": [
    "gdp['rank'] = gdp['rank'].apply(lambda x: int(x))"
   ]
  },
  {
   "cell_type": "code",
   "execution_count": 36,
   "metadata": {},
   "outputs": [],
   "source": [
    "gdp.gdp = gdp.gdp.apply(lambda x: float(x.replace(',', '')))"
   ]
  },
  {
   "cell_type": "code",
   "execution_count": 37,
   "metadata": {},
   "outputs": [
    {
     "data": {
      "text/plain": [
       "abrev       object\n",
       "rank         int64\n",
       "country     object\n",
       "gdp        float64\n",
       "dtype: object"
      ]
     },
     "execution_count": 37,
     "metadata": {},
     "output_type": "execute_result"
    }
   ],
   "source": [
    "gdp.dtypes"
   ]
  },
  {
   "cell_type": "code",
   "execution_count": 38,
   "metadata": {},
   "outputs": [
    {
     "data": {
      "text/html": [
       "<div>\n",
       "<style scoped>\n",
       "    .dataframe tbody tr th:only-of-type {\n",
       "        vertical-align: middle;\n",
       "    }\n",
       "\n",
       "    .dataframe tbody tr th {\n",
       "        vertical-align: top;\n",
       "    }\n",
       "\n",
       "    .dataframe thead th {\n",
       "        text-align: right;\n",
       "    }\n",
       "</style>\n",
       "<table border=\"1\" class=\"dataframe\">\n",
       "  <thead>\n",
       "    <tr style=\"text-align: right;\">\n",
       "      <th></th>\n",
       "      <th>abrev</th>\n",
       "      <th>rank</th>\n",
       "      <th>country</th>\n",
       "      <th>gdp</th>\n",
       "    </tr>\n",
       "  </thead>\n",
       "  <tbody>\n",
       "    <tr>\n",
       "      <th>0</th>\n",
       "      <td>USA</td>\n",
       "      <td>1</td>\n",
       "      <td>United States</td>\n",
       "      <td>19485394.0</td>\n",
       "    </tr>\n",
       "    <tr>\n",
       "      <th>1</th>\n",
       "      <td>CHN</td>\n",
       "      <td>2</td>\n",
       "      <td>China</td>\n",
       "      <td>12237700.0</td>\n",
       "    </tr>\n",
       "    <tr>\n",
       "      <th>2</th>\n",
       "      <td>JPN</td>\n",
       "      <td>3</td>\n",
       "      <td>Japan</td>\n",
       "      <td>4872415.0</td>\n",
       "    </tr>\n",
       "    <tr>\n",
       "      <th>3</th>\n",
       "      <td>DEU</td>\n",
       "      <td>4</td>\n",
       "      <td>Germany</td>\n",
       "      <td>3693204.0</td>\n",
       "    </tr>\n",
       "    <tr>\n",
       "      <th>4</th>\n",
       "      <td>IND</td>\n",
       "      <td>5</td>\n",
       "      <td>India</td>\n",
       "      <td>2650725.0</td>\n",
       "    </tr>\n",
       "  </tbody>\n",
       "</table>\n",
       "</div>"
      ],
      "text/plain": [
       "  abrev  rank        country         gdp\n",
       "0   USA     1  United States  19485394.0\n",
       "1   CHN     2          China  12237700.0\n",
       "2   JPN     3          Japan   4872415.0\n",
       "3   DEU     4        Germany   3693204.0\n",
       "4   IND     5          India   2650725.0"
      ]
     },
     "execution_count": 38,
     "metadata": {},
     "output_type": "execute_result"
    }
   ],
   "source": [
    "gdp.head()"
   ]
  },
  {
   "cell_type": "markdown",
   "metadata": {},
   "source": [
    "## Descripción de datos 2\n",
    "\n",
    "Nuevamente verificamos los datos, ahora con los numéricos correctos, y podemos ver el rango, mínimos, máximos y otra serie de datos estadísticos relevantes."
   ]
  },
  {
   "cell_type": "code",
   "execution_count": 39,
   "metadata": {},
   "outputs": [
    {
     "data": {
      "text/html": [
       "<div>\n",
       "<style scoped>\n",
       "    .dataframe tbody tr th:only-of-type {\n",
       "        vertical-align: middle;\n",
       "    }\n",
       "\n",
       "    .dataframe tbody tr th {\n",
       "        vertical-align: top;\n",
       "    }\n",
       "\n",
       "    .dataframe thead th {\n",
       "        text-align: right;\n",
       "    }\n",
       "</style>\n",
       "<table border=\"1\" class=\"dataframe\">\n",
       "  <thead>\n",
       "    <tr style=\"text-align: right;\">\n",
       "      <th></th>\n",
       "      <th>rank</th>\n",
       "      <th>gdp</th>\n",
       "    </tr>\n",
       "  </thead>\n",
       "  <tbody>\n",
       "    <tr>\n",
       "      <th>count</th>\n",
       "      <td>202.000000</td>\n",
       "      <td>2.020000e+02</td>\n",
       "    </tr>\n",
       "    <tr>\n",
       "      <th>mean</th>\n",
       "      <td>101.500000</td>\n",
       "      <td>3.946792e+05</td>\n",
       "    </tr>\n",
       "    <tr>\n",
       "      <th>std</th>\n",
       "      <td>58.456537</td>\n",
       "      <td>1.704545e+06</td>\n",
       "    </tr>\n",
       "    <tr>\n",
       "      <th>min</th>\n",
       "      <td>1.000000</td>\n",
       "      <td>4.000000e+01</td>\n",
       "    </tr>\n",
       "    <tr>\n",
       "      <th>25%</th>\n",
       "      <td>51.250000</td>\n",
       "      <td>6.237000e+03</td>\n",
       "    </tr>\n",
       "    <tr>\n",
       "      <th>50%</th>\n",
       "      <td>101.500000</td>\n",
       "      <td>2.630350e+04</td>\n",
       "    </tr>\n",
       "    <tr>\n",
       "      <th>75%</th>\n",
       "      <td>151.750000</td>\n",
       "      <td>2.003298e+05</td>\n",
       "    </tr>\n",
       "    <tr>\n",
       "      <th>max</th>\n",
       "      <td>202.000000</td>\n",
       "      <td>1.948539e+07</td>\n",
       "    </tr>\n",
       "  </tbody>\n",
       "</table>\n",
       "</div>"
      ],
      "text/plain": [
       "             rank           gdp\n",
       "count  202.000000  2.020000e+02\n",
       "mean   101.500000  3.946792e+05\n",
       "std     58.456537  1.704545e+06\n",
       "min      1.000000  4.000000e+01\n",
       "25%     51.250000  6.237000e+03\n",
       "50%    101.500000  2.630350e+04\n",
       "75%    151.750000  2.003298e+05\n",
       "max    202.000000  1.948539e+07"
      ]
     },
     "execution_count": 39,
     "metadata": {},
     "output_type": "execute_result"
    }
   ],
   "source": [
    "gdp.describe()"
   ]
  },
  {
   "cell_type": "markdown",
   "metadata": {},
   "source": [
    "# Datos de clima\n",
    "\n",
    "## Cargamos los datos del dataset de clima"
   ]
  },
  {
   "cell_type": "code",
   "execution_count": 40,
   "metadata": {
    "scrolled": true
   },
   "outputs": [],
   "source": [
    "clima = pd.read_csv('GlobalLandTemperaturesByCountry.csv')"
   ]
  },
  {
   "cell_type": "code",
   "execution_count": 41,
   "metadata": {},
   "outputs": [
    {
     "data": {
      "text/html": [
       "<div>\n",
       "<style scoped>\n",
       "    .dataframe tbody tr th:only-of-type {\n",
       "        vertical-align: middle;\n",
       "    }\n",
       "\n",
       "    .dataframe tbody tr th {\n",
       "        vertical-align: top;\n",
       "    }\n",
       "\n",
       "    .dataframe thead th {\n",
       "        text-align: right;\n",
       "    }\n",
       "</style>\n",
       "<table border=\"1\" class=\"dataframe\">\n",
       "  <thead>\n",
       "    <tr style=\"text-align: right;\">\n",
       "      <th></th>\n",
       "      <th>dt</th>\n",
       "      <th>AverageTemperature</th>\n",
       "      <th>AverageTemperatureUncertainty</th>\n",
       "      <th>Country</th>\n",
       "    </tr>\n",
       "  </thead>\n",
       "  <tbody>\n",
       "    <tr>\n",
       "      <th>0</th>\n",
       "      <td>1743-11-01</td>\n",
       "      <td>4.384</td>\n",
       "      <td>2.294</td>\n",
       "      <td>Åland</td>\n",
       "    </tr>\n",
       "    <tr>\n",
       "      <th>1</th>\n",
       "      <td>1743-12-01</td>\n",
       "      <td>NaN</td>\n",
       "      <td>NaN</td>\n",
       "      <td>Åland</td>\n",
       "    </tr>\n",
       "    <tr>\n",
       "      <th>2</th>\n",
       "      <td>1744-01-01</td>\n",
       "      <td>NaN</td>\n",
       "      <td>NaN</td>\n",
       "      <td>Åland</td>\n",
       "    </tr>\n",
       "    <tr>\n",
       "      <th>3</th>\n",
       "      <td>1744-02-01</td>\n",
       "      <td>NaN</td>\n",
       "      <td>NaN</td>\n",
       "      <td>Åland</td>\n",
       "    </tr>\n",
       "    <tr>\n",
       "      <th>4</th>\n",
       "      <td>1744-03-01</td>\n",
       "      <td>NaN</td>\n",
       "      <td>NaN</td>\n",
       "      <td>Åland</td>\n",
       "    </tr>\n",
       "  </tbody>\n",
       "</table>\n",
       "</div>"
      ],
      "text/plain": [
       "           dt  AverageTemperature  AverageTemperatureUncertainty Country\n",
       "0  1743-11-01               4.384                          2.294   Åland\n",
       "1  1743-12-01                 NaN                            NaN   Åland\n",
       "2  1744-01-01                 NaN                            NaN   Åland\n",
       "3  1744-02-01                 NaN                            NaN   Åland\n",
       "4  1744-03-01                 NaN                            NaN   Åland"
      ]
     },
     "execution_count": 41,
     "metadata": {},
     "output_type": "execute_result"
    }
   ],
   "source": [
    "clima.head()"
   ]
  },
  {
   "cell_type": "markdown",
   "metadata": {},
   "source": [
    "## Cambio de nombre de columnas\n",
    "\n",
    "Vamos a cambiar el nombre de las columnas para que podamos trabajar más fácilmente con ellas. El nombre del país lo vamos a dejar en **`country`** en minúsculas, ya que será *la llave* con la que uniremos ambos datasets y es conveniente que se llame igual en ambos"
   ]
  },
  {
   "cell_type": "code",
   "execution_count": 42,
   "metadata": {},
   "outputs": [
    {
     "data": {
      "text/html": [
       "<div>\n",
       "<style scoped>\n",
       "    .dataframe tbody tr th:only-of-type {\n",
       "        vertical-align: middle;\n",
       "    }\n",
       "\n",
       "    .dataframe tbody tr th {\n",
       "        vertical-align: top;\n",
       "    }\n",
       "\n",
       "    .dataframe thead th {\n",
       "        text-align: right;\n",
       "    }\n",
       "</style>\n",
       "<table border=\"1\" class=\"dataframe\">\n",
       "  <thead>\n",
       "    <tr style=\"text-align: right;\">\n",
       "      <th></th>\n",
       "      <th>fecha</th>\n",
       "      <th>temp</th>\n",
       "      <th>incertidumbre</th>\n",
       "      <th>country</th>\n",
       "    </tr>\n",
       "  </thead>\n",
       "  <tbody>\n",
       "    <tr>\n",
       "      <th>0</th>\n",
       "      <td>1743-11-01</td>\n",
       "      <td>4.384</td>\n",
       "      <td>2.294</td>\n",
       "      <td>Åland</td>\n",
       "    </tr>\n",
       "    <tr>\n",
       "      <th>1</th>\n",
       "      <td>1743-12-01</td>\n",
       "      <td>NaN</td>\n",
       "      <td>NaN</td>\n",
       "      <td>Åland</td>\n",
       "    </tr>\n",
       "    <tr>\n",
       "      <th>2</th>\n",
       "      <td>1744-01-01</td>\n",
       "      <td>NaN</td>\n",
       "      <td>NaN</td>\n",
       "      <td>Åland</td>\n",
       "    </tr>\n",
       "    <tr>\n",
       "      <th>3</th>\n",
       "      <td>1744-02-01</td>\n",
       "      <td>NaN</td>\n",
       "      <td>NaN</td>\n",
       "      <td>Åland</td>\n",
       "    </tr>\n",
       "    <tr>\n",
       "      <th>4</th>\n",
       "      <td>1744-03-01</td>\n",
       "      <td>NaN</td>\n",
       "      <td>NaN</td>\n",
       "      <td>Åland</td>\n",
       "    </tr>\n",
       "  </tbody>\n",
       "</table>\n",
       "</div>"
      ],
      "text/plain": [
       "        fecha   temp  incertidumbre country\n",
       "0  1743-11-01  4.384          2.294   Åland\n",
       "1  1743-12-01    NaN            NaN   Åland\n",
       "2  1744-01-01    NaN            NaN   Åland\n",
       "3  1744-02-01    NaN            NaN   Åland\n",
       "4  1744-03-01    NaN            NaN   Åland"
      ]
     },
     "execution_count": 42,
     "metadata": {},
     "output_type": "execute_result"
    }
   ],
   "source": [
    "clima.columns = ['fecha', 'temp', 'incertidumbre', 'country']\n",
    "clima.head()"
   ]
  },
  {
   "cell_type": "markdown",
   "metadata": {},
   "source": [
    "## Descripción del dataset\n",
    "\n",
    "Describimos el dataset para ver cuáles son los rangos de los datos numéricos. En el dataset existen muchos NaN, pero estos no se toman en cuenta para los cálculos de los estadísticos, dado que son NaN (Not a Number)"
   ]
  },
  {
   "cell_type": "code",
   "execution_count": 43,
   "metadata": {},
   "outputs": [
    {
     "data": {
      "text/html": [
       "<div>\n",
       "<style scoped>\n",
       "    .dataframe tbody tr th:only-of-type {\n",
       "        vertical-align: middle;\n",
       "    }\n",
       "\n",
       "    .dataframe tbody tr th {\n",
       "        vertical-align: top;\n",
       "    }\n",
       "\n",
       "    .dataframe thead th {\n",
       "        text-align: right;\n",
       "    }\n",
       "</style>\n",
       "<table border=\"1\" class=\"dataframe\">\n",
       "  <thead>\n",
       "    <tr style=\"text-align: right;\">\n",
       "      <th></th>\n",
       "      <th>temp</th>\n",
       "      <th>incertidumbre</th>\n",
       "    </tr>\n",
       "  </thead>\n",
       "  <tbody>\n",
       "    <tr>\n",
       "      <th>count</th>\n",
       "      <td>544811.000000</td>\n",
       "      <td>545550.000000</td>\n",
       "    </tr>\n",
       "    <tr>\n",
       "      <th>mean</th>\n",
       "      <td>17.193354</td>\n",
       "      <td>1.019057</td>\n",
       "    </tr>\n",
       "    <tr>\n",
       "      <th>std</th>\n",
       "      <td>10.953966</td>\n",
       "      <td>1.201930</td>\n",
       "    </tr>\n",
       "    <tr>\n",
       "      <th>min</th>\n",
       "      <td>-37.658000</td>\n",
       "      <td>0.052000</td>\n",
       "    </tr>\n",
       "    <tr>\n",
       "      <th>25%</th>\n",
       "      <td>10.025000</td>\n",
       "      <td>0.323000</td>\n",
       "    </tr>\n",
       "    <tr>\n",
       "      <th>50%</th>\n",
       "      <td>20.901000</td>\n",
       "      <td>0.571000</td>\n",
       "    </tr>\n",
       "    <tr>\n",
       "      <th>75%</th>\n",
       "      <td>25.814000</td>\n",
       "      <td>1.206000</td>\n",
       "    </tr>\n",
       "    <tr>\n",
       "      <th>max</th>\n",
       "      <td>38.842000</td>\n",
       "      <td>15.003000</td>\n",
       "    </tr>\n",
       "  </tbody>\n",
       "</table>\n",
       "</div>"
      ],
      "text/plain": [
       "                temp  incertidumbre\n",
       "count  544811.000000  545550.000000\n",
       "mean       17.193354       1.019057\n",
       "std        10.953966       1.201930\n",
       "min       -37.658000       0.052000\n",
       "25%        10.025000       0.323000\n",
       "50%        20.901000       0.571000\n",
       "75%        25.814000       1.206000\n",
       "max        38.842000      15.003000"
      ]
     },
     "execution_count": 43,
     "metadata": {},
     "output_type": "execute_result"
    }
   ],
   "source": [
    "clima.describe()"
   ]
  },
  {
   "cell_type": "markdown",
   "metadata": {},
   "source": [
    "## Crear un dato ( _feature engineering_ )\n",
    "\n",
    "Como vamos a comparar las temperaturas contra el PIB de 2017 que es solo un año, vamos a crear una columna que tenga el año, para facilitarnos la vida a la hora de filtrar.\n",
    "\n",
    "Esto no es estrictamente necesario, ya que se podría filtrar por la fecha completa, pero hacemos esto para ejemplificar cómo podemos crear una nueva variable"
   ]
  },
  {
   "cell_type": "code",
   "execution_count": 44,
   "metadata": {},
   "outputs": [
    {
     "data": {
      "text/html": [
       "<div>\n",
       "<style scoped>\n",
       "    .dataframe tbody tr th:only-of-type {\n",
       "        vertical-align: middle;\n",
       "    }\n",
       "\n",
       "    .dataframe tbody tr th {\n",
       "        vertical-align: top;\n",
       "    }\n",
       "\n",
       "    .dataframe thead th {\n",
       "        text-align: right;\n",
       "    }\n",
       "</style>\n",
       "<table border=\"1\" class=\"dataframe\">\n",
       "  <thead>\n",
       "    <tr style=\"text-align: right;\">\n",
       "      <th></th>\n",
       "      <th>fecha</th>\n",
       "      <th>temp</th>\n",
       "      <th>incertidumbre</th>\n",
       "      <th>country</th>\n",
       "      <th>year</th>\n",
       "    </tr>\n",
       "  </thead>\n",
       "  <tbody>\n",
       "    <tr>\n",
       "      <th>0</th>\n",
       "      <td>1743-11-01</td>\n",
       "      <td>4.384</td>\n",
       "      <td>2.294</td>\n",
       "      <td>Åland</td>\n",
       "      <td>1743</td>\n",
       "    </tr>\n",
       "    <tr>\n",
       "      <th>1</th>\n",
       "      <td>1743-12-01</td>\n",
       "      <td>NaN</td>\n",
       "      <td>NaN</td>\n",
       "      <td>Åland</td>\n",
       "      <td>1743</td>\n",
       "    </tr>\n",
       "    <tr>\n",
       "      <th>2</th>\n",
       "      <td>1744-01-01</td>\n",
       "      <td>NaN</td>\n",
       "      <td>NaN</td>\n",
       "      <td>Åland</td>\n",
       "      <td>1744</td>\n",
       "    </tr>\n",
       "    <tr>\n",
       "      <th>3</th>\n",
       "      <td>1744-02-01</td>\n",
       "      <td>NaN</td>\n",
       "      <td>NaN</td>\n",
       "      <td>Åland</td>\n",
       "      <td>1744</td>\n",
       "    </tr>\n",
       "    <tr>\n",
       "      <th>4</th>\n",
       "      <td>1744-03-01</td>\n",
       "      <td>NaN</td>\n",
       "      <td>NaN</td>\n",
       "      <td>Åland</td>\n",
       "      <td>1744</td>\n",
       "    </tr>\n",
       "  </tbody>\n",
       "</table>\n",
       "</div>"
      ],
      "text/plain": [
       "        fecha   temp  incertidumbre country  year\n",
       "0  1743-11-01  4.384          2.294   Åland  1743\n",
       "1  1743-12-01    NaN            NaN   Åland  1743\n",
       "2  1744-01-01    NaN            NaN   Åland  1744\n",
       "3  1744-02-01    NaN            NaN   Åland  1744\n",
       "4  1744-03-01    NaN            NaN   Åland  1744"
      ]
     },
     "execution_count": 44,
     "metadata": {},
     "output_type": "execute_result"
    }
   ],
   "source": [
    "clima['year'] = pd.DatetimeIndex(clima['fecha']).year\n",
    "clima.head()"
   ]
  },
  {
   "cell_type": "code",
   "execution_count": 45,
   "metadata": {},
   "outputs": [
    {
     "data": {
      "text/html": [
       "<div>\n",
       "<style scoped>\n",
       "    .dataframe tbody tr th:only-of-type {\n",
       "        vertical-align: middle;\n",
       "    }\n",
       "\n",
       "    .dataframe tbody tr th {\n",
       "        vertical-align: top;\n",
       "    }\n",
       "\n",
       "    .dataframe thead th {\n",
       "        text-align: right;\n",
       "    }\n",
       "</style>\n",
       "<table border=\"1\" class=\"dataframe\">\n",
       "  <thead>\n",
       "    <tr style=\"text-align: right;\">\n",
       "      <th></th>\n",
       "      <th>temp</th>\n",
       "      <th>incertidumbre</th>\n",
       "      <th>year</th>\n",
       "    </tr>\n",
       "  </thead>\n",
       "  <tbody>\n",
       "    <tr>\n",
       "      <th>count</th>\n",
       "      <td>544811.000000</td>\n",
       "      <td>545550.000000</td>\n",
       "      <td>577462.000000</td>\n",
       "    </tr>\n",
       "    <tr>\n",
       "      <th>mean</th>\n",
       "      <td>17.193354</td>\n",
       "      <td>1.019057</td>\n",
       "      <td>1908.819188</td>\n",
       "    </tr>\n",
       "    <tr>\n",
       "      <th>std</th>\n",
       "      <td>10.953966</td>\n",
       "      <td>1.201930</td>\n",
       "      <td>65.916942</td>\n",
       "    </tr>\n",
       "    <tr>\n",
       "      <th>min</th>\n",
       "      <td>-37.658000</td>\n",
       "      <td>0.052000</td>\n",
       "      <td>1743.000000</td>\n",
       "    </tr>\n",
       "    <tr>\n",
       "      <th>25%</th>\n",
       "      <td>10.025000</td>\n",
       "      <td>0.323000</td>\n",
       "      <td>1862.000000</td>\n",
       "    </tr>\n",
       "    <tr>\n",
       "      <th>50%</th>\n",
       "      <td>20.901000</td>\n",
       "      <td>0.571000</td>\n",
       "      <td>1914.000000</td>\n",
       "    </tr>\n",
       "    <tr>\n",
       "      <th>75%</th>\n",
       "      <td>25.814000</td>\n",
       "      <td>1.206000</td>\n",
       "      <td>1964.000000</td>\n",
       "    </tr>\n",
       "    <tr>\n",
       "      <th>max</th>\n",
       "      <td>38.842000</td>\n",
       "      <td>15.003000</td>\n",
       "      <td>2013.000000</td>\n",
       "    </tr>\n",
       "  </tbody>\n",
       "</table>\n",
       "</div>"
      ],
      "text/plain": [
       "                temp  incertidumbre           year\n",
       "count  544811.000000  545550.000000  577462.000000\n",
       "mean       17.193354       1.019057    1908.819188\n",
       "std        10.953966       1.201930      65.916942\n",
       "min       -37.658000       0.052000    1743.000000\n",
       "25%        10.025000       0.323000    1862.000000\n",
       "50%        20.901000       0.571000    1914.000000\n",
       "75%        25.814000       1.206000    1964.000000\n",
       "max        38.842000      15.003000    2013.000000"
      ]
     },
     "execution_count": 45,
     "metadata": {},
     "output_type": "execute_result"
    }
   ],
   "source": [
    "clima.describe()"
   ]
  },
  {
   "cell_type": "code",
   "execution_count": 46,
   "metadata": {},
   "outputs": [
    {
     "data": {
      "text/plain": [
       "'2013-09-01'"
      ]
     },
     "execution_count": 46,
     "metadata": {},
     "output_type": "execute_result"
    }
   ],
   "source": [
    "clima.fecha.max()"
   ]
  },
  {
   "cell_type": "markdown",
   "metadata": {},
   "source": [
    "## Seleccionar el año con que vamos a trabajar\n",
    "\n",
    "El último año del dataset es 2013, no deberíamos comparar los datos económicos de 2017 con los climáticos de 2013, pero para este ejemplo, asumamos que las temperaturas no se mueven tan rápidamente.\n",
    "\n",
    "Adicionalmente, los datos climáticos de 2013 llegan hasta semptiembre, por lo que el último año completo es 2012, que es contra el que compararemos."
   ]
  },
  {
   "cell_type": "code",
   "execution_count": 47,
   "metadata": {},
   "outputs": [
    {
     "data": {
      "text/html": [
       "<div>\n",
       "<style scoped>\n",
       "    .dataframe tbody tr th:only-of-type {\n",
       "        vertical-align: middle;\n",
       "    }\n",
       "\n",
       "    .dataframe tbody tr th {\n",
       "        vertical-align: top;\n",
       "    }\n",
       "\n",
       "    .dataframe thead th {\n",
       "        text-align: right;\n",
       "    }\n",
       "</style>\n",
       "<table border=\"1\" class=\"dataframe\">\n",
       "  <thead>\n",
       "    <tr style=\"text-align: right;\">\n",
       "      <th></th>\n",
       "      <th>fecha</th>\n",
       "      <th>temp</th>\n",
       "      <th>incertidumbre</th>\n",
       "      <th>country</th>\n",
       "      <th>year</th>\n",
       "    </tr>\n",
       "  </thead>\n",
       "  <tbody>\n",
       "    <tr>\n",
       "      <th>3218</th>\n",
       "      <td>2012-01-01</td>\n",
       "      <td>-0.943</td>\n",
       "      <td>0.345</td>\n",
       "      <td>Åland</td>\n",
       "      <td>2012</td>\n",
       "    </tr>\n",
       "    <tr>\n",
       "      <th>3219</th>\n",
       "      <td>2012-02-01</td>\n",
       "      <td>-3.454</td>\n",
       "      <td>0.246</td>\n",
       "      <td>Åland</td>\n",
       "      <td>2012</td>\n",
       "    </tr>\n",
       "    <tr>\n",
       "      <th>3220</th>\n",
       "      <td>2012-03-01</td>\n",
       "      <td>2.317</td>\n",
       "      <td>0.354</td>\n",
       "      <td>Åland</td>\n",
       "      <td>2012</td>\n",
       "    </tr>\n",
       "    <tr>\n",
       "      <th>3221</th>\n",
       "      <td>2012-04-01</td>\n",
       "      <td>2.935</td>\n",
       "      <td>0.399</td>\n",
       "      <td>Åland</td>\n",
       "      <td>2012</td>\n",
       "    </tr>\n",
       "    <tr>\n",
       "      <th>3222</th>\n",
       "      <td>2012-05-01</td>\n",
       "      <td>8.434</td>\n",
       "      <td>0.318</td>\n",
       "      <td>Åland</td>\n",
       "      <td>2012</td>\n",
       "    </tr>\n",
       "  </tbody>\n",
       "</table>\n",
       "</div>"
      ],
      "text/plain": [
       "           fecha   temp  incertidumbre country  year\n",
       "3218  2012-01-01 -0.943          0.345   Åland  2012\n",
       "3219  2012-02-01 -3.454          0.246   Åland  2012\n",
       "3220  2012-03-01  2.317          0.354   Åland  2012\n",
       "3221  2012-04-01  2.935          0.399   Åland  2012\n",
       "3222  2012-05-01  8.434          0.318   Åland  2012"
      ]
     },
     "execution_count": 47,
     "metadata": {},
     "output_type": "execute_result"
    }
   ],
   "source": [
    "clima = clima[clima.year==2012]\n",
    "\n",
    "clima.head()"
   ]
  },
  {
   "cell_type": "markdown",
   "metadata": {},
   "source": [
    "## Cálculo de la temperatura promedio\n",
    "\n",
    "El dato que utilizaremos para nuestro estudio es la temperatura promedio de cada país en el año del que tenemos datos. \n",
    "\n",
    "Veamos primero las temperaturas para un país en particular, digamos **Mexico** (sin acento)"
   ]
  },
  {
   "cell_type": "code",
   "execution_count": 48,
   "metadata": {},
   "outputs": [
    {
     "data": {
      "text/plain": [
       "340562    16.185\n",
       "340563    16.951\n",
       "340564    19.947\n",
       "340565    22.474\n",
       "340566    24.957\n",
       "340567    26.097\n",
       "340568    25.298\n",
       "340569    25.681\n",
       "340570    24.224\n",
       "340571    22.289\n",
       "340572    19.107\n",
       "340573    16.619\n",
       "Name: temp, dtype: float64"
      ]
     },
     "execution_count": 48,
     "metadata": {},
     "output_type": "execute_result"
    }
   ],
   "source": [
    "clima[clima.country == \"Mexico\"].temp"
   ]
  },
  {
   "cell_type": "code",
   "execution_count": 49,
   "metadata": {},
   "outputs": [
    {
     "data": {
      "text/plain": [
       "21.652416666666667"
      ]
     },
     "execution_count": 49,
     "metadata": {},
     "output_type": "execute_result"
    }
   ],
   "source": [
    "clima[clima.country == \"Mexico\"].temp.mean()"
   ]
  },
  {
   "cell_type": "code",
   "execution_count": 50,
   "metadata": {},
   "outputs": [
    {
     "data": {
      "text/html": [
       "<div>\n",
       "<style scoped>\n",
       "    .dataframe tbody tr th:only-of-type {\n",
       "        vertical-align: middle;\n",
       "    }\n",
       "\n",
       "    .dataframe tbody tr th {\n",
       "        vertical-align: top;\n",
       "    }\n",
       "\n",
       "    .dataframe thead th {\n",
       "        text-align: right;\n",
       "    }\n",
       "</style>\n",
       "<table border=\"1\" class=\"dataframe\">\n",
       "  <thead>\n",
       "    <tr style=\"text-align: right;\">\n",
       "      <th></th>\n",
       "      <th>temp</th>\n",
       "    </tr>\n",
       "    <tr>\n",
       "      <th>country</th>\n",
       "      <th></th>\n",
       "    </tr>\n",
       "  </thead>\n",
       "  <tbody>\n",
       "    <tr>\n",
       "      <th>Afghanistan</th>\n",
       "      <td>14.481583</td>\n",
       "    </tr>\n",
       "    <tr>\n",
       "      <th>Africa</th>\n",
       "      <td>24.725917</td>\n",
       "    </tr>\n",
       "    <tr>\n",
       "      <th>Albania</th>\n",
       "      <td>13.768250</td>\n",
       "    </tr>\n",
       "    <tr>\n",
       "      <th>Algeria</th>\n",
       "      <td>23.954833</td>\n",
       "    </tr>\n",
       "    <tr>\n",
       "      <th>American Samoa</th>\n",
       "      <td>27.201417</td>\n",
       "    </tr>\n",
       "  </tbody>\n",
       "</table>\n",
       "</div>"
      ],
      "text/plain": [
       "                     temp\n",
       "country                  \n",
       "Afghanistan     14.481583\n",
       "Africa          24.725917\n",
       "Albania         13.768250\n",
       "Algeria         23.954833\n",
       "American Samoa  27.201417"
      ]
     },
     "execution_count": 50,
     "metadata": {},
     "output_type": "execute_result"
    }
   ],
   "source": [
    "cli = pd.DataFrame(clima.groupby(['country']).temp.mean())\n",
    "cli.head()"
   ]
  },
  {
   "cell_type": "code",
   "execution_count": 51,
   "metadata": {},
   "outputs": [
    {
     "data": {
      "text/html": [
       "<div>\n",
       "<style scoped>\n",
       "    .dataframe tbody tr th:only-of-type {\n",
       "        vertical-align: middle;\n",
       "    }\n",
       "\n",
       "    .dataframe tbody tr th {\n",
       "        vertical-align: top;\n",
       "    }\n",
       "\n",
       "    .dataframe thead th {\n",
       "        text-align: right;\n",
       "    }\n",
       "</style>\n",
       "<table border=\"1\" class=\"dataframe\">\n",
       "  <thead>\n",
       "    <tr style=\"text-align: right;\">\n",
       "      <th></th>\n",
       "      <th>country</th>\n",
       "      <th>temp</th>\n",
       "    </tr>\n",
       "  </thead>\n",
       "  <tbody>\n",
       "    <tr>\n",
       "      <th>0</th>\n",
       "      <td>Afghanistan</td>\n",
       "      <td>14.481583</td>\n",
       "    </tr>\n",
       "    <tr>\n",
       "      <th>1</th>\n",
       "      <td>Africa</td>\n",
       "      <td>24.725917</td>\n",
       "    </tr>\n",
       "    <tr>\n",
       "      <th>2</th>\n",
       "      <td>Albania</td>\n",
       "      <td>13.768250</td>\n",
       "    </tr>\n",
       "    <tr>\n",
       "      <th>3</th>\n",
       "      <td>Algeria</td>\n",
       "      <td>23.954833</td>\n",
       "    </tr>\n",
       "    <tr>\n",
       "      <th>4</th>\n",
       "      <td>American Samoa</td>\n",
       "      <td>27.201417</td>\n",
       "    </tr>\n",
       "  </tbody>\n",
       "</table>\n",
       "</div>"
      ],
      "text/plain": [
       "          country       temp\n",
       "0     Afghanistan  14.481583\n",
       "1          Africa  24.725917\n",
       "2         Albania  13.768250\n",
       "3         Algeria  23.954833\n",
       "4  American Samoa  27.201417"
      ]
     },
     "execution_count": 51,
     "metadata": {},
     "output_type": "execute_result"
    }
   ],
   "source": [
    "cli.reset_index(inplace=True)\n",
    "cli.head()"
   ]
  },
  {
   "cell_type": "markdown",
   "metadata": {},
   "source": [
    "## ¿Qué países no coinciden en los dos datasets?\n",
    "\n",
    "Tenemos dos fuentes de datos que seguramente tendrán discrepancias. En este caso, las discrepancias seguramente vendrán de los nombres de los países, pero como es el único dato que tenemos que puede relacionar los dos datasets, tenemos que revisar.\n",
    "\n",
    "Una forma sencilla es ver qué datos **NO** están en un dataset que **SI** están en el otro\n",
    "\n",
    "Para esto vamos a comparar mediante arreglos"
   ]
  },
  {
   "cell_type": "code",
   "execution_count": 52,
   "metadata": {
    "scrolled": true
   },
   "outputs": [
    {
     "data": {
      "text/plain": [
       "array(['United States', 'China', 'Japan', 'Germany', 'India',\n",
       "       'United Kingdom', 'France', 'Brazil', 'Italy', 'Canada',\n",
       "       'Russian Federation', 'Korea, Rep.', 'Australia', 'Spain',\n",
       "       'Mexico', 'Indonesia', 'Turkey', 'Netherlands', 'Saudi Arabia',\n",
       "       'Switzerland', 'Argentina', 'Sweden', 'Poland', 'Belgium',\n",
       "       'Thailand', 'Iran, Islamic Rep.', 'Austria', 'Norway',\n",
       "       'United Arab Emirates', 'Nigeria', 'Israel', 'South Africa',\n",
       "       'Hong Kong SAR, China', 'Ireland', 'Denmark', 'Singapore',\n",
       "       'Malaysia', 'Colombia', 'Philippines', 'Pakistan', 'Chile',\n",
       "       'Finland', 'Bangladesh', 'Egypt, Arab Rep.', 'Vietnam', 'Portugal',\n",
       "       'Czech Republic', 'Romania', 'Peru', 'New Zealand', 'Greece',\n",
       "       'Iraq', 'Algeria', 'Qatar', 'Kazakhstan', 'Hungary', 'Angola',\n",
       "       'Kuwait', 'Sudan', 'Ukraine', 'Morocco', 'Ecuador', 'Puerto Rico',\n",
       "       'Cuba', 'Slovak Republic', 'Sri Lanka', 'Ethiopia', 'Kenya',\n",
       "       'Dominican Republic', 'Guatemala', 'Oman', 'Myanmar', 'Luxembourg',\n",
       "       'Panama', 'Ghana', 'Bulgaria', 'Costa Rica', 'Uruguay', 'Croatia',\n",
       "       'Belarus', 'Lebanon', 'Tanzania', 'Macao SAR, China', 'Uzbekistan',\n",
       "       'Slovenia', 'Lithuania', 'Serbia', 'Azerbaijan', 'Jordan',\n",
       "       'Tunisia', 'Paraguay', 'Libya', 'Turkmenistan', 'Congo, Dem. Rep.',\n",
       "       'Bolivia', \"Côte d'Ivoire\", 'Bahrain', 'Cameroon', 'Yemen, Rep.',\n",
       "       'Latvia', 'Estonia', 'Uganda', 'Zambia', 'Nepal', 'El Salvador',\n",
       "       'Iceland', 'Honduras', 'Cambodia', 'Trinidad and Tobago', 'Cyprus',\n",
       "       'Zimbabwe', 'Senegal', 'Papua New Guinea', 'Afghanistan',\n",
       "       'Bosnia and Herzegovina', 'Botswana', 'Lao PDR', 'Mali', 'Georgia',\n",
       "       'Gabon', 'Jamaica', 'West Bank and Gaza', 'Nicaragua', 'Mauritius',\n",
       "       'Namibia', 'Albania', 'Mozambique', 'Malta', 'Burkina Faso',\n",
       "       'Equatorial Guinea', 'Bahamas, The', 'Brunei Darussalam',\n",
       "       'Armenia', 'Madagascar', 'Mongolia', 'North Macedonia', 'Guinea',\n",
       "       'Chad', 'Benin', 'Rwanda', 'Congo, Rep.', 'Haiti', 'Moldova',\n",
       "       'Niger', 'Kyrgyz Republic', 'Kosovo', 'Tajikistan', 'Somalia',\n",
       "       'Isle of Man', 'Monaco', 'Malawi', 'Liechtenstein', 'Guam', 'Fiji',\n",
       "       'Mauritania', 'Maldives', 'Montenegro', 'Togo', 'Barbados',\n",
       "       'Eswatini', 'Sierra Leone', 'Virgin Islands (U.S.)', 'Guyana',\n",
       "       'Liberia', 'Burundi', 'Andorra', 'Suriname', 'Timor-Leste',\n",
       "       'South Sudan', 'Greenland', 'Aruba', 'Lesotho', 'Bhutan',\n",
       "       'Faroe Islands', 'Central African Republic', 'Belize', 'Djibouti',\n",
       "       'Cabo Verde', 'St. Lucia', 'San Marino',\n",
       "       'Northern Mariana Islands', 'Antigua and Barbuda', 'Seychelles',\n",
       "       'Gambia, The', 'Guinea-Bissau', 'Solomon Islands', 'Grenada',\n",
       "       'Comoros', 'St. Kitts and Nevis', 'Vanuatu', 'Samoa',\n",
       "       'St. Vincent and the Grenadines', 'American Samoa', 'Dominica',\n",
       "       'Tonga', 'São Tomé and Principe', 'Micronesia, Fed. Sts.', 'Palau',\n",
       "       'Marshall Islands', 'Kiribati', 'Nauru', 'Tuvalu'], dtype=object)"
      ]
     },
     "execution_count": 52,
     "metadata": {},
     "output_type": "execute_result"
    }
   ],
   "source": [
    "np.array(gdp.country)"
   ]
  },
  {
   "cell_type": "code",
   "execution_count": 53,
   "metadata": {},
   "outputs": [],
   "source": [
    "def diferencias(serie1, serie2, ns1='', ns2=''):\n",
    "    a1 = np.array(serie1)\n",
    "    a2 = np.array(serie2)\n",
    "    \n",
    "    nos1 = ns1 if ns1 != '' else '1'\n",
    "    nos2 = ns2 if ns2 != '' else '2'\n",
    "    \n",
    "    print('La serie {} tiene {} registros'.format(nos1, len(a1)))\n",
    "    print('La serie {} tiene {} registros'.format(nos2, len(a2)))\n",
    "    \n",
    "    # Cuando hacemos una resta de un *set* (el subconjunto de \n",
    "    # datos únicos de un conjunto de datos), encontramos todo \n",
    "    # aquello que NO está en el set inicial\n",
    "    \n",
    "    ex1 = set(serie1) - set(serie2)\n",
    "    ex2 = set(serie2) - set(serie1)\n",
    "\n",
    "    print()\n",
    "    print('En la serie {} se encuentran {} registros que no están en la serie clima'.format(nos1, len(ex1)))\n",
    "    print('En la serie {} se encuentran {} registros que no están en la serie gdp'.format(nos2, len(ex2)))\n",
    "    \n",
    "    return ex1, ex2"
   ]
  },
  {
   "cell_type": "code",
   "execution_count": 54,
   "metadata": {},
   "outputs": [
    {
     "name": "stdout",
     "output_type": "stream",
     "text": [
      "La serie pais tiene 202 registros\n",
      "La serie clima tiene 243 registros\n",
      "\n",
      "En la serie pais se encuentran 40 registros que no están en la serie clima\n",
      "En la serie clima se encuentran 81 registros que no están en la serie gdp\n"
     ]
    }
   ],
   "source": [
    "exgdp, excli = diferencias(gdp.country, cli.country, ns1='pais', ns2=\"clima\")"
   ]
  },
  {
   "cell_type": "code",
   "execution_count": 55,
   "metadata": {
    "scrolled": false
   },
   "outputs": [
    {
     "data": {
      "text/plain": [
       "{'Antigua and Barbuda',\n",
       " 'Bahamas, The',\n",
       " 'Bosnia and Herzegovina',\n",
       " 'Brunei Darussalam',\n",
       " 'Cabo Verde',\n",
       " 'Congo, Dem. Rep.',\n",
       " 'Congo, Rep.',\n",
       " \"Côte d'Ivoire\",\n",
       " 'Egypt, Arab Rep.',\n",
       " 'Eswatini',\n",
       " 'Gambia, The',\n",
       " 'Guinea-Bissau',\n",
       " 'Hong Kong SAR, China',\n",
       " 'Iran, Islamic Rep.',\n",
       " 'Isle of Man',\n",
       " 'Korea, Rep.',\n",
       " 'Kosovo',\n",
       " 'Kyrgyz Republic',\n",
       " 'Lao PDR',\n",
       " 'Macao SAR, China',\n",
       " 'Maldives',\n",
       " 'Marshall Islands',\n",
       " 'Micronesia, Fed. Sts.',\n",
       " 'Myanmar',\n",
       " 'Nauru',\n",
       " 'North Macedonia',\n",
       " 'Russian Federation',\n",
       " 'Slovak Republic',\n",
       " 'South Sudan',\n",
       " 'St. Kitts and Nevis',\n",
       " 'St. Lucia',\n",
       " 'St. Vincent and the Grenadines',\n",
       " 'São Tomé and Principe',\n",
       " 'Timor-Leste',\n",
       " 'Trinidad and Tobago',\n",
       " 'Tuvalu',\n",
       " 'Vanuatu',\n",
       " 'Virgin Islands (U.S.)',\n",
       " 'West Bank and Gaza',\n",
       " 'Yemen, Rep.'}"
      ]
     },
     "execution_count": 55,
     "metadata": {},
     "output_type": "execute_result"
    }
   ],
   "source": [
    "exgdp"
   ]
  },
  {
   "cell_type": "code",
   "execution_count": 56,
   "metadata": {
    "scrolled": false
   },
   "outputs": [
    {
     "data": {
      "text/plain": [
       "{'Africa',\n",
       " 'Anguilla',\n",
       " 'Antarctica',\n",
       " 'Antigua And Barbuda',\n",
       " 'Asia',\n",
       " 'Bahamas',\n",
       " 'Baker Island',\n",
       " 'Bonaire, Saint Eustatius And Saba',\n",
       " 'Bosnia And Herzegovina',\n",
       " 'British Virgin Islands',\n",
       " 'Burma',\n",
       " 'Cape Verde',\n",
       " 'Cayman Islands',\n",
       " 'Christmas Island',\n",
       " 'Congo',\n",
       " 'Congo (Democratic Republic Of The)',\n",
       " 'Curaçao',\n",
       " \"Côte D'Ivoire\",\n",
       " 'Denmark (Europe)',\n",
       " 'Egypt',\n",
       " 'Eritrea',\n",
       " 'Europe',\n",
       " 'Falkland Islands (Islas Malvinas)',\n",
       " 'Federated States Of Micronesia',\n",
       " 'France (Europe)',\n",
       " 'French Guiana',\n",
       " 'French Polynesia',\n",
       " 'French Southern And Antarctic Lands',\n",
       " 'Gambia',\n",
       " 'Gaza Strip',\n",
       " 'Guadeloupe',\n",
       " 'Guernsey',\n",
       " 'Guinea Bissau',\n",
       " 'Heard Island And Mcdonald Islands',\n",
       " 'Hong Kong',\n",
       " 'Iran',\n",
       " 'Isle Of Man',\n",
       " 'Jersey',\n",
       " 'Kingman Reef',\n",
       " 'Kyrgyzstan',\n",
       " 'Laos',\n",
       " 'Macau',\n",
       " 'Macedonia',\n",
       " 'Martinique',\n",
       " 'Mayotte',\n",
       " 'Montserrat',\n",
       " 'Netherlands (Europe)',\n",
       " 'New Caledonia',\n",
       " 'Niue',\n",
       " 'North America',\n",
       " 'North Korea',\n",
       " 'Oceania',\n",
       " 'Palestina',\n",
       " 'Palmyra Atoll',\n",
       " 'Reunion',\n",
       " 'Russia',\n",
       " 'Saint Barthélemy',\n",
       " 'Saint Kitts And Nevis',\n",
       " 'Saint Lucia',\n",
       " 'Saint Martin',\n",
       " 'Saint Pierre And Miquelon',\n",
       " 'Saint Vincent And The Grenadines',\n",
       " 'Sao Tome And Principe',\n",
       " 'Sint Maarten',\n",
       " 'Slovakia',\n",
       " 'South America',\n",
       " 'South Georgia And The South Sandwich Isla',\n",
       " 'South Korea',\n",
       " 'Svalbard And Jan Mayen',\n",
       " 'Swaziland',\n",
       " 'Syria',\n",
       " 'Taiwan',\n",
       " 'Timor Leste',\n",
       " 'Trinidad And Tobago',\n",
       " 'Turks And Caicas Islands',\n",
       " 'United Kingdom (Europe)',\n",
       " 'Venezuela',\n",
       " 'Virgin Islands',\n",
       " 'Western Sahara',\n",
       " 'Yemen',\n",
       " 'Åland'}"
      ]
     },
     "execution_count": 56,
     "metadata": {},
     "output_type": "execute_result"
    }
   ],
   "source": [
    "excli"
   ]
  },
  {
   "cell_type": "markdown",
   "metadata": {},
   "source": [
    "## Limpieza y homologación de datos\n",
    "\n",
    "Hay varias estrategias para limpiar y homologar datos:\n",
    "\n",
    "* Convertir todo a minúsculas\n",
    "* Eliminar \"notas\" (los paréntesis del segundo dataset, por ejemplo)\n",
    "* Eliminar acentos, apóstrofes y otros símbolos\n",
    "* Desarrollar un \"diccionario\" de conversión (lo más tedioso, que se hace de forma manual)\n",
    "\n",
    "Y finalmente se puede tomar una decisión de qué incluir y que no dentro de nuestro análisis"
   ]
  },
  {
   "cell_type": "markdown",
   "metadata": {},
   "source": [
    "### Cambiando a minúsculas"
   ]
  },
  {
   "cell_type": "code",
   "execution_count": 57,
   "metadata": {},
   "outputs": [
    {
     "data": {
      "text/plain": [
       "0         united states\n",
       "1                 china\n",
       "2                 japan\n",
       "3               germany\n",
       "4                 india\n",
       "             ...       \n",
       "197               palau\n",
       "198    marshall islands\n",
       "199            kiribati\n",
       "200               nauru\n",
       "201              tuvalu\n",
       "Name: country, Length: 202, dtype: object"
      ]
     },
     "execution_count": 57,
     "metadata": {},
     "output_type": "execute_result"
    }
   ],
   "source": [
    "gdp.country.apply(lambda x: x.lower())"
   ]
  },
  {
   "cell_type": "code",
   "execution_count": 58,
   "metadata": {
    "scrolled": false
   },
   "outputs": [
    {
     "data": {
      "text/plain": [
       "(    abrev  rank           country         gdp\n",
       " 0     USA     1     united states  19485394.0\n",
       " 1     CHN     2             china  12237700.0\n",
       " 2     JPN     3             japan   4872415.0\n",
       " 3     DEU     4           germany   3693204.0\n",
       " 4     IND     5             india   2650725.0\n",
       " ..    ...   ...               ...         ...\n",
       " 197   PLW   198             palau       290.0\n",
       " 198   MHL   199  marshall islands       204.0\n",
       " 199   KIR   200          kiribati       186.0\n",
       " 200   NRU   201             nauru       114.0\n",
       " 201   TUV   202            tuvalu        40.0\n",
       " \n",
       " [202 rows x 4 columns],\n",
       "             country       temp\n",
       " 0       afghanistan  14.481583\n",
       " 1            africa  24.725917\n",
       " 2           albania  13.768250\n",
       " 3           algeria  23.954833\n",
       " 4    american samoa  27.201417\n",
       " ..              ...        ...\n",
       " 238  western sahara  23.303417\n",
       " 239           yemen  27.445000\n",
       " 240          zambia  21.697750\n",
       " 241        zimbabwe  21.521333\n",
       " 242           åland   6.063917\n",
       " \n",
       " [243 rows x 2 columns])"
      ]
     },
     "execution_count": 58,
     "metadata": {},
     "output_type": "execute_result"
    }
   ],
   "source": [
    "gdp.country = gdp.country.apply(lambda x: x.lower())\n",
    "cli.country = cli.country.apply(lambda x: x.lower())\n",
    "gdp,cli"
   ]
  },
  {
   "cell_type": "code",
   "execution_count": 59,
   "metadata": {
    "scrolled": true
   },
   "outputs": [
    {
     "name": "stdout",
     "output_type": "stream",
     "text": [
      "La serie pais tiene 202 registros\n",
      "La serie clima tiene 243 registros\n",
      "\n",
      "En la serie pais se encuentran 35 registros que no están en la serie clima\n",
      "En la serie clima se encuentran 76 registros que no están en la serie gdp\n"
     ]
    }
   ],
   "source": [
    "exgdp, excli = diferencias(gdp.country, cli.country, ns1='pais', ns2=\"clima\")"
   ]
  },
  {
   "cell_type": "markdown",
   "metadata": {},
   "source": [
    "### Eliminando los datos entre paréntesis\n",
    "\n",
    "El dataset de temperaturas tiene una peculiaridad, en algunos casos tiene registros \"dobles\" como:\n",
    "\n",
    "**denmark** y **denmark (europe)**. Lo mismo para **united kingdom**, **france** y **netherlands**. Probablemente se debe a que se mide la temperatura en el país y en sus colonias, por lo que, a nosotros nos interesa la temperatura en el país Europeo, por lo que debemos desechar el registro que corresponde a la medición fuera de Europa\n",
    "\n",
    "Vamos a utilizar expresiones regulares para obtener de forma automática el nombre de los países que tienen paréntesis en su nombre, los guardamos en una lista, y después procesamos todos los países que cumplan con el criterio de la lista, para evitar que se unan al otro dataset, le vamos a poner un nombre ficticio a los países, en este caso 'ignora'"
   ]
  },
  {
   "cell_type": "code",
   "execution_count": 60,
   "metadata": {},
   "outputs": [],
   "source": [
    "import re"
   ]
  },
  {
   "cell_type": "code",
   "execution_count": 61,
   "metadata": {},
   "outputs": [
    {
     "name": "stdout",
     "output_type": "stream",
     "text": [
      "  59 => denmark (europe)\n",
      "  77 => france (europe)\n",
      " 152 => netherlands (europe)\n",
      " 231 => united kingdom (europe)\n"
     ]
    },
    {
     "name": "stderr",
     "output_type": "stream",
     "text": [
      "<ipython-input-61-80361e6cf912>:12: SettingWithCopyWarning: \n",
      "A value is trying to be set on a copy of a slice from a DataFrame\n",
      "\n",
      "See the caveats in the documentation: https://pandas.pydata.org/pandas-docs/stable/user_guide/indexing.html#returning-a-view-versus-a-copy\n",
      "  cli.country[i] = 'ignora'\n"
     ]
    }
   ],
   "source": [
    "paren = re.compile(r'(.+) \\(europe\\)')\n",
    "en_parentesis = []\n",
    "\n",
    "for i in range(len(cli)):\n",
    "    if '(europe)' in cli.country[i]:\n",
    "        groups = paren.findall(cli.country[i])\n",
    "        print('{:4} => {}'.format(i, cli.country[i]))\n",
    "        en_parentesis.append(groups[0])\n",
    "        \n",
    "for i in range(len(cli)):\n",
    "    if cli.country[i] in en_parentesis:\n",
    "        cli.country[i] = 'ignora'"
   ]
  },
  {
   "cell_type": "markdown",
   "metadata": {},
   "source": [
    "Ahora si, borramos todos los registros que tengan un paréntesis después del nombre, como se muestra en los siguientes ejemplos, y quitamos lo que viene entre paréntesis, para que se quede solo el nombre"
   ]
  },
  {
   "cell_type": "code",
   "execution_count": 62,
   "metadata": {},
   "outputs": [
    {
     "data": {
      "text/plain": [
       "'congo (democratic republic of the)'"
      ]
     },
     "execution_count": 62,
     "metadata": {},
     "output_type": "execute_result"
    }
   ],
   "source": [
    "cli.country[50]"
   ]
  },
  {
   "cell_type": "code",
   "execution_count": 63,
   "metadata": {},
   "outputs": [
    {
     "data": {
      "text/plain": [
       "'denmark (europe)'"
      ]
     },
     "execution_count": 63,
     "metadata": {},
     "output_type": "execute_result"
    }
   ],
   "source": [
    "cli.country[59]"
   ]
  },
  {
   "cell_type": "code",
   "execution_count": 64,
   "metadata": {},
   "outputs": [
    {
     "data": {
      "text/plain": [
       "'congo'"
      ]
     },
     "execution_count": 64,
     "metadata": {},
     "output_type": "execute_result"
    }
   ],
   "source": [
    "re.sub(r\" (\\(.*\\))\", \"\", cli.country[50])"
   ]
  },
  {
   "cell_type": "code",
   "execution_count": 65,
   "metadata": {},
   "outputs": [],
   "source": [
    "def sinparentesis(a):\n",
    "    for i in range(len(a)):\n",
    "        if '(' in a[i]:\n",
    "            print(\"{:3} - {:35} =regex=> {}\".format(i, a[i], re.sub(r\" (\\(.*\\))\", \"\", a[i])))\n",
    "            a[i] = re.sub(r\" (\\(.*\\))\", \"\", a[i])"
   ]
  },
  {
   "cell_type": "code",
   "execution_count": 66,
   "metadata": {},
   "outputs": [
    {
     "name": "stdout",
     "output_type": "stream",
     "text": [
      " 50 - congo (democratic republic of the)  =regex=> congo\n",
      " 59 - denmark (europe)                    =regex=> denmark\n",
      " 71 - falkland islands (islas malvinas)   =regex=> falkland islands\n",
      " 77 - france (europe)                     =regex=> france\n",
      "152 - netherlands (europe)                =regex=> netherlands\n",
      "231 - united kingdom (europe)             =regex=> united kingdom\n"
     ]
    },
    {
     "name": "stderr",
     "output_type": "stream",
     "text": [
      "<ipython-input-65-428b826bcd5e>:5: SettingWithCopyWarning: \n",
      "A value is trying to be set on a copy of a slice from a DataFrame\n",
      "\n",
      "See the caveats in the documentation: https://pandas.pydata.org/pandas-docs/stable/user_guide/indexing.html#returning-a-view-versus-a-copy\n",
      "  a[i] = re.sub(r\" (\\(.*\\))\", \"\", a[i])\n"
     ]
    }
   ],
   "source": [
    "sinparentesis(cli.country)"
   ]
  },
  {
   "cell_type": "code",
   "execution_count": 67,
   "metadata": {},
   "outputs": [
    {
     "data": {
      "text/plain": [
       "'congo'"
      ]
     },
     "execution_count": 67,
     "metadata": {},
     "output_type": "execute_result"
    }
   ],
   "source": [
    "cli.country[50]"
   ]
  },
  {
   "cell_type": "code",
   "execution_count": 68,
   "metadata": {},
   "outputs": [
    {
     "data": {
      "text/plain": [
       "'denmark'"
      ]
     },
     "execution_count": 68,
     "metadata": {},
     "output_type": "execute_result"
    }
   ],
   "source": [
    "cli.country[59]"
   ]
  },
  {
   "cell_type": "code",
   "execution_count": 69,
   "metadata": {},
   "outputs": [
    {
     "name": "stdout",
     "output_type": "stream",
     "text": [
      "161 - virgin islands (u.s.)               =regex=> virgin islands\n"
     ]
    },
    {
     "name": "stderr",
     "output_type": "stream",
     "text": [
      "<ipython-input-65-428b826bcd5e>:5: SettingWithCopyWarning: \n",
      "A value is trying to be set on a copy of a slice from a DataFrame\n",
      "\n",
      "See the caveats in the documentation: https://pandas.pydata.org/pandas-docs/stable/user_guide/indexing.html#returning-a-view-versus-a-copy\n",
      "  a[i] = re.sub(r\" (\\(.*\\))\", \"\", a[i])\n"
     ]
    }
   ],
   "source": [
    "sinparentesis(gdp.country)"
   ]
  },
  {
   "cell_type": "code",
   "execution_count": 70,
   "metadata": {
    "scrolled": true
   },
   "outputs": [
    {
     "name": "stdout",
     "output_type": "stream",
     "text": [
      "La serie pais tiene 202 registros\n",
      "La serie clima tiene 243 registros\n",
      "\n",
      "En la serie pais se encuentran 34 registros que no están en la serie clima\n",
      "En la serie clima se encuentran 71 registros que no están en la serie gdp\n"
     ]
    }
   ],
   "source": [
    "exgdp, excli = diferencias(gdp.country, cli.country, ns1='pais', ns2=\"clima\")"
   ]
  },
  {
   "cell_type": "markdown",
   "metadata": {},
   "source": [
    "### Eliminamos los nombres posteriores a una coma\n",
    "\n",
    "Encontramos en el dataset **`gdp`** encontramos que hay varios países que tienen un artículo, u otra descripción después de una coma, por ejemplo:\n",
    "\n",
    "* bahamas, the\n",
    "* egypt, arab rep.\n",
    "* micronesia, fed. sts.\n",
    "\n",
    "Vamos a eliminarlos con otra expresión regular"
   ]
  },
  {
   "cell_type": "code",
   "execution_count": 71,
   "metadata": {},
   "outputs": [
    {
     "data": {
      "text/plain": [
       "'korea, rep.'"
      ]
     },
     "execution_count": 71,
     "metadata": {},
     "output_type": "execute_result"
    }
   ],
   "source": [
    "gdp.country[11]"
   ]
  },
  {
   "cell_type": "code",
   "execution_count": 72,
   "metadata": {},
   "outputs": [
    {
     "data": {
      "text/plain": [
       "'korea'"
      ]
     },
     "execution_count": 72,
     "metadata": {},
     "output_type": "execute_result"
    }
   ],
   "source": [
    "re.sub(r\"(,.*$)\", \"\", gdp.country[11])"
   ]
  },
  {
   "cell_type": "code",
   "execution_count": 73,
   "metadata": {},
   "outputs": [],
   "source": [
    "def sinposteriores(a):\n",
    "    for i in range(len(a)):\n",
    "        a[i] = re.sub(r\"(,.*$)\", \"\", a[i])"
   ]
  },
  {
   "cell_type": "code",
   "execution_count": 74,
   "metadata": {},
   "outputs": [
    {
     "name": "stderr",
     "output_type": "stream",
     "text": [
      "<ipython-input-73-dccb9eb91a03>:3: SettingWithCopyWarning: \n",
      "A value is trying to be set on a copy of a slice from a DataFrame\n",
      "\n",
      "See the caveats in the documentation: https://pandas.pydata.org/pandas-docs/stable/user_guide/indexing.html#returning-a-view-versus-a-copy\n",
      "  a[i] = re.sub(r\"(,.*$)\", \"\", a[i])\n"
     ]
    },
    {
     "data": {
      "text/plain": [
       "'korea'"
      ]
     },
     "execution_count": 74,
     "metadata": {},
     "output_type": "execute_result"
    }
   ],
   "source": [
    "sinposteriores(gdp.country)\n",
    "gdp.country[11]"
   ]
  },
  {
   "cell_type": "code",
   "execution_count": 75,
   "metadata": {},
   "outputs": [
    {
     "name": "stderr",
     "output_type": "stream",
     "text": [
      "<ipython-input-73-dccb9eb91a03>:3: SettingWithCopyWarning: \n",
      "A value is trying to be set on a copy of a slice from a DataFrame\n",
      "\n",
      "See the caveats in the documentation: https://pandas.pydata.org/pandas-docs/stable/user_guide/indexing.html#returning-a-view-versus-a-copy\n",
      "  a[i] = re.sub(r\"(,.*$)\", \"\", a[i])\n"
     ]
    }
   ],
   "source": [
    "sinposteriores(cli.country)"
   ]
  },
  {
   "cell_type": "code",
   "execution_count": 76,
   "metadata": {},
   "outputs": [
    {
     "name": "stdout",
     "output_type": "stream",
     "text": [
      "La serie pais tiene 202 registros\n",
      "La serie clima tiene 243 registros\n",
      "\n",
      "En la serie pais se encuentran 27 registros que no están en la serie clima\n",
      "En la serie clima se encuentran 65 registros que no están en la serie gdp\n"
     ]
    }
   ],
   "source": [
    "exgdp, excli = diferencias(gdp.country, cli.country, ns1='pais', ns2=\"clima\")"
   ]
  },
  {
   "cell_type": "markdown",
   "metadata": {},
   "source": [
    "### Eliminar guiones\n",
    "\n",
    "En algunos casos, vemos que existen guiones en los nombres de los países. Los eliminamos"
   ]
  },
  {
   "cell_type": "code",
   "execution_count": 77,
   "metadata": {},
   "outputs": [
    {
     "data": {
      "text/plain": [
       "'timor-leste'"
      ]
     },
     "execution_count": 77,
     "metadata": {},
     "output_type": "execute_result"
    }
   ],
   "source": [
    "gdp.country[167]"
   ]
  },
  {
   "cell_type": "code",
   "execution_count": 78,
   "metadata": {},
   "outputs": [
    {
     "data": {
      "text/plain": [
       "'timor leste'"
      ]
     },
     "execution_count": 78,
     "metadata": {},
     "output_type": "execute_result"
    }
   ],
   "source": [
    "re.sub('-', ' ', gdp.country[167])"
   ]
  },
  {
   "cell_type": "code",
   "execution_count": 79,
   "metadata": {},
   "outputs": [],
   "source": [
    "def sinacentos(a):\n",
    "    for i in range(len(a)):\n",
    "        a[i] = re.sub('-', ' ', a[i])"
   ]
  },
  {
   "cell_type": "code",
   "execution_count": 80,
   "metadata": {},
   "outputs": [
    {
     "name": "stderr",
     "output_type": "stream",
     "text": [
      "<ipython-input-79-96ba8803a68f>:3: SettingWithCopyWarning: \n",
      "A value is trying to be set on a copy of a slice from a DataFrame\n",
      "\n",
      "See the caveats in the documentation: https://pandas.pydata.org/pandas-docs/stable/user_guide/indexing.html#returning-a-view-versus-a-copy\n",
      "  a[i] = re.sub('-', ' ', a[i])\n"
     ]
    },
    {
     "data": {
      "text/plain": [
       "'timor leste'"
      ]
     },
     "execution_count": 80,
     "metadata": {},
     "output_type": "execute_result"
    }
   ],
   "source": [
    "sinacentos(gdp.country)\n",
    "gdp.country[167]"
   ]
  },
  {
   "cell_type": "code",
   "execution_count": 81,
   "metadata": {},
   "outputs": [
    {
     "name": "stderr",
     "output_type": "stream",
     "text": [
      "<ipython-input-79-96ba8803a68f>:3: SettingWithCopyWarning: \n",
      "A value is trying to be set on a copy of a slice from a DataFrame\n",
      "\n",
      "See the caveats in the documentation: https://pandas.pydata.org/pandas-docs/stable/user_guide/indexing.html#returning-a-view-versus-a-copy\n",
      "  a[i] = re.sub('-', ' ', a[i])\n"
     ]
    }
   ],
   "source": [
    "sinacentos(cli.country)"
   ]
  },
  {
   "cell_type": "code",
   "execution_count": 82,
   "metadata": {
    "scrolled": true
   },
   "outputs": [
    {
     "name": "stdout",
     "output_type": "stream",
     "text": [
      "La serie pais tiene 202 registros\n",
      "La serie clima tiene 243 registros\n",
      "\n",
      "En la serie pais se encuentran 25 registros que no están en la serie clima\n",
      "En la serie clima se encuentran 63 registros que no están en la serie gdp\n"
     ]
    }
   ],
   "source": [
    "exgdp, excli = diferencias(gdp.country, cli.country, ns1='pais', ns2=\"clima\")"
   ]
  },
  {
   "cell_type": "markdown",
   "metadata": {},
   "source": [
    "### Homologar (quitar) abreviaturas\n",
    "\n",
    "Encontramos que existen algunos casos donde hay abreviaturas como 'st.' por 'saint'"
   ]
  },
  {
   "cell_type": "code",
   "execution_count": 83,
   "metadata": {},
   "outputs": [
    {
     "data": {
      "text/plain": [
       "'st. lucia'"
      ]
     },
     "execution_count": 83,
     "metadata": {},
     "output_type": "execute_result"
    }
   ],
   "source": [
    "gdp.country[178]"
   ]
  },
  {
   "cell_type": "code",
   "execution_count": 84,
   "metadata": {},
   "outputs": [
    {
     "data": {
      "text/plain": [
       "'saint lucia'"
      ]
     },
     "execution_count": 84,
     "metadata": {},
     "output_type": "execute_result"
    }
   ],
   "source": [
    "re.sub('st\\.', 'saint', gdp.country[178])"
   ]
  },
  {
   "cell_type": "code",
   "execution_count": 85,
   "metadata": {},
   "outputs": [],
   "source": [
    "def sinabrev(a):\n",
    "    for i in range(len(a)):\n",
    "        a[i] = re.sub('st\\.', 'saint', a[i])"
   ]
  },
  {
   "cell_type": "code",
   "execution_count": 86,
   "metadata": {},
   "outputs": [
    {
     "name": "stderr",
     "output_type": "stream",
     "text": [
      "<ipython-input-85-2a1ae994dbff>:3: SettingWithCopyWarning: \n",
      "A value is trying to be set on a copy of a slice from a DataFrame\n",
      "\n",
      "See the caveats in the documentation: https://pandas.pydata.org/pandas-docs/stable/user_guide/indexing.html#returning-a-view-versus-a-copy\n",
      "  a[i] = re.sub('st\\.', 'saint', a[i])\n"
     ]
    },
    {
     "data": {
      "text/plain": [
       "'saint lucia'"
      ]
     },
     "execution_count": 86,
     "metadata": {},
     "output_type": "execute_result"
    }
   ],
   "source": [
    "sinabrev(gdp.country)\n",
    "gdp.country[178]"
   ]
  },
  {
   "cell_type": "code",
   "execution_count": 87,
   "metadata": {},
   "outputs": [
    {
     "name": "stdout",
     "output_type": "stream",
     "text": [
      "La serie pais tiene 202 registros\n",
      "La serie clima tiene 243 registros\n",
      "\n",
      "En la serie pais se encuentran 22 registros que no están en la serie clima\n",
      "En la serie clima se encuentran 60 registros que no están en la serie gdp\n"
     ]
    }
   ],
   "source": [
    "exgdp, excli = diferencias(gdp.country, cli.country, ns1='pais', ns2=\"clima\")"
   ]
  },
  {
   "cell_type": "markdown",
   "metadata": {},
   "source": [
    "### Eliminar acentos, apóstrofes etc."
   ]
  },
  {
   "cell_type": "code",
   "execution_count": 89,
   "metadata": {},
   "outputs": [],
   "source": [
    "import unidecode"
   ]
  },
  {
   "cell_type": "code",
   "execution_count": 90,
   "metadata": {},
   "outputs": [
    {
     "data": {
      "text/plain": [
       "'são tomé and principe'"
      ]
     },
     "execution_count": 90,
     "metadata": {},
     "output_type": "execute_result"
    }
   ],
   "source": [
    "gdp.country[195]"
   ]
  },
  {
   "cell_type": "code",
   "execution_count": 91,
   "metadata": {},
   "outputs": [
    {
     "data": {
      "text/plain": [
       "'sao tome and principe'"
      ]
     },
     "execution_count": 91,
     "metadata": {},
     "output_type": "execute_result"
    }
   ],
   "source": [
    "unidecode.unidecode(gdp.country[195])"
   ]
  },
  {
   "cell_type": "code",
   "execution_count": 92,
   "metadata": {},
   "outputs": [],
   "source": [
    "def sinacentos(a):\n",
    "    for i in range(len(a)):\n",
    "        a[i] = unidecode.unidecode(a[i])"
   ]
  },
  {
   "cell_type": "code",
   "execution_count": 93,
   "metadata": {},
   "outputs": [
    {
     "name": "stderr",
     "output_type": "stream",
     "text": [
      "<ipython-input-92-61bc296de897>:3: SettingWithCopyWarning: \n",
      "A value is trying to be set on a copy of a slice from a DataFrame\n",
      "\n",
      "See the caveats in the documentation: https://pandas.pydata.org/pandas-docs/stable/user_guide/indexing.html#returning-a-view-versus-a-copy\n",
      "  a[i] = unidecode.unidecode(a[i])\n"
     ]
    },
    {
     "data": {
      "text/plain": [
       "'sao tome and principe'"
      ]
     },
     "execution_count": 93,
     "metadata": {},
     "output_type": "execute_result"
    }
   ],
   "source": [
    "sinacentos(gdp.country)\n",
    "gdp.country[195]"
   ]
  },
  {
   "cell_type": "code",
   "execution_count": 94,
   "metadata": {},
   "outputs": [
    {
     "name": "stderr",
     "output_type": "stream",
     "text": [
      "<ipython-input-92-61bc296de897>:3: SettingWithCopyWarning: \n",
      "A value is trying to be set on a copy of a slice from a DataFrame\n",
      "\n",
      "See the caveats in the documentation: https://pandas.pydata.org/pandas-docs/stable/user_guide/indexing.html#returning-a-view-versus-a-copy\n",
      "  a[i] = unidecode.unidecode(a[i])\n"
     ]
    }
   ],
   "source": [
    "sinacentos(cli.country)"
   ]
  },
  {
   "cell_type": "code",
   "execution_count": 95,
   "metadata": {
    "scrolled": true
   },
   "outputs": [
    {
     "name": "stdout",
     "output_type": "stream",
     "text": [
      "La serie pais tiene 202 registros\n",
      "La serie clima tiene 243 registros\n",
      "\n",
      "En la serie pais se encuentran 21 registros que no están en la serie clima\n",
      "En la serie clima se encuentran 59 registros que no están en la serie gdp\n"
     ]
    }
   ],
   "source": [
    "exgdp, excli = diferencias(gdp.country, cli.country, ns1='pais', ns2=\"clima\")"
   ]
  },
  {
   "cell_type": "markdown",
   "metadata": {},
   "source": [
    "### Crear un diccionario personal\n",
    "\n",
    "En muchas ocasiones tenemos que hacer el trajo manualmente, exploramos como van los contenidos en un lugar que no están en otro\n",
    "\n",
    "Podemos decidir si el dataset más pequeño es el que va a mandar, de cualquier forma, no podríamos inventar información para los países que no existen. Probablemente lo que existe en el primer dataset existirá en el segundo, pero con otro nombre, por ejemplo:\n",
    "\n",
    "| Nombre en DS1      | Nombre en DS2  |\n",
    "|--------------------|----------------|\n",
    "| cabo verde         | cape verde     |\n",
    "| honk kong sar      | honk kong      |\n",
    "| macao sar          | macau          |\n",
    "| north macedonia    | macedonia      |\n",
    "| russian federation | russia         |\n",
    "| slovak republic    | slovakia       |\n",
    "| kyrgyz republic    | kyrgyzstan     |\n",
    "| korea(1)           | south korea    |\n",
    "| west bank and gaza | palestina      |\n",
    "\n",
    "(1) En este caso, también tenemos que tener conocimiento de los datasets con los que trabajamos. En el dataset de GDP, **Korea del Norte** no reporta datos, por lo que seguramente **Korea** se refiere a **Korea del Sur**\n",
    "\n",
    "Lo mismo ocurre para palestina"
   ]
  },
  {
   "cell_type": "code",
   "execution_count": 96,
   "metadata": {},
   "outputs": [
    {
     "data": {
      "text/plain": [
       "({'brunei darussalam',\n",
       "  'cabo verde',\n",
       "  'eswatini',\n",
       "  'hong kong sar',\n",
       "  'korea',\n",
       "  'kosovo',\n",
       "  'kyrgyz republic',\n",
       "  'lao pdr',\n",
       "  'macao sar',\n",
       "  'maldives',\n",
       "  'marshall islands',\n",
       "  'micronesia',\n",
       "  'myanmar',\n",
       "  'nauru',\n",
       "  'north macedonia',\n",
       "  'russian federation',\n",
       "  'slovak republic',\n",
       "  'south sudan',\n",
       "  'tuvalu',\n",
       "  'vanuatu',\n",
       "  'west bank and gaza'},\n",
       " {'africa',\n",
       "  'aland',\n",
       "  'anguilla',\n",
       "  'antarctica',\n",
       "  'asia',\n",
       "  'baker island',\n",
       "  'bonaire',\n",
       "  'british virgin islands',\n",
       "  'burma',\n",
       "  'cape verde',\n",
       "  'cayman islands',\n",
       "  'christmas island',\n",
       "  'curacao',\n",
       "  'eritrea',\n",
       "  'europe',\n",
       "  'falkland islands',\n",
       "  'federated states of micronesia',\n",
       "  'french guiana',\n",
       "  'french polynesia',\n",
       "  'french southern and antarctic lands',\n",
       "  'gaza strip',\n",
       "  'guadeloupe',\n",
       "  'guernsey',\n",
       "  'heard island and mcdonald islands',\n",
       "  'hong kong',\n",
       "  'ignora',\n",
       "  'jersey',\n",
       "  'kingman reef',\n",
       "  'kyrgyzstan',\n",
       "  'laos',\n",
       "  'macau',\n",
       "  'macedonia',\n",
       "  'martinique',\n",
       "  'mayotte',\n",
       "  'montserrat',\n",
       "  'new caledonia',\n",
       "  'niue',\n",
       "  'north america',\n",
       "  'north korea',\n",
       "  'oceania',\n",
       "  'palestina',\n",
       "  'palmyra atoll',\n",
       "  'reunion',\n",
       "  'russia',\n",
       "  'saint barthelemy',\n",
       "  'saint martin',\n",
       "  'saint pierre and miquelon',\n",
       "  'sint maarten',\n",
       "  'slovakia',\n",
       "  'south america',\n",
       "  'south georgia and the south sandwich isla',\n",
       "  'south korea',\n",
       "  'svalbard and jan mayen',\n",
       "  'swaziland',\n",
       "  'syria',\n",
       "  'taiwan',\n",
       "  'turks and caicas islands',\n",
       "  'venezuela',\n",
       "  'western sahara'})"
      ]
     },
     "execution_count": 96,
     "metadata": {},
     "output_type": "execute_result"
    }
   ],
   "source": [
    "exgdp, excli"
   ]
  },
  {
   "cell_type": "markdown",
   "metadata": {},
   "source": [
    "| Nombre en DS1      | Nombre en DS2  |\n",
    "|--------------------|----------------|\n",
    "| cabo verde         | cape verde     |\n",
    "| honk kong sar      | honk kong      |\n",
    "| macao sar          | macau          |\n",
    "| north macedonia    | macedonia      |\n",
    "| russian federation | russia         |\n",
    "| slovak republic    | slovakia       |\n",
    "| kyrgyz republic    | kyrgyzstan     |\n",
    "| korea(1)           | south korea    |\n",
    "| west bank and gaza | palestina      |\n",
    "\n",
    "Creamos un diccionario para cambiar el segundo dataset"
   ]
  },
  {
   "cell_type": "code",
   "execution_count": 97,
   "metadata": {},
   "outputs": [],
   "source": [
    "dicc = [\n",
    "    {'dice': 'cape verde', 'debedecir': 'cabo verde'},\n",
    "    {'dice': 'hong kong',  'debedecir': 'honk kong sar'},\n",
    "    {'dice': 'macau',      'debedecir': 'macao sar'},\n",
    "    {'dice': 'macedonia',  'debedecir': 'north macedonia'},\n",
    "    {'dice': 'russia',     'debedecir': 'russian federation'},\n",
    "    {'dice': 'slovakia',   'debedecir': 'slovak republic'},\n",
    "    {'dice': 'kyrgyzstan', 'debedecir': 'kyrgyz republic'},\n",
    "    {'dice': 'south korea','debedecir': 'korea'},\n",
    "    {'dice': 'palestina',  'debedecir': 'west bank and gaza'},\n",
    "]"
   ]
  },
  {
   "cell_type": "code",
   "execution_count": 98,
   "metadata": {},
   "outputs": [
    {
     "name": "stdout",
     "output_type": "stream",
     "text": [
      "[ 40] cape verde           ==> cabo verde          \n",
      "[100] hong kong            ==> honk kong sar       \n",
      "[120] kyrgyzstan           ==> kyrgyz republic     \n",
      "[130] macau                ==> macao sar           \n",
      "[131] macedonia            ==> north macedonia     \n",
      "[167] palestina            ==> west bank and gaza  \n",
      "[180] russia               ==> russian federation  \n",
      "[198] slovakia             ==> slovak republic     \n",
      "[205] south korea          ==> korea               \n"
     ]
    },
    {
     "name": "stderr",
     "output_type": "stream",
     "text": [
      "<ipython-input-98-d843e78e01df>:5: SettingWithCopyWarning: \n",
      "A value is trying to be set on a copy of a slice from a DataFrame\n",
      "\n",
      "See the caveats in the documentation: https://pandas.pydata.org/pandas-docs/stable/user_guide/indexing.html#returning-a-view-versus-a-copy\n",
      "  cli.country[i] = dicc[j]['debedecir']\n"
     ]
    }
   ],
   "source": [
    "for i in range(len(cli.country)):\n",
    "    for j in range(len(dicc)):\n",
    "        if cli.country[i]==dicc[j]['dice']:\n",
    "            print('[{:3}] {:20} ==> {:20}'.format(i, cli.country[i], dicc[j]['debedecir']))\n",
    "            cli.country[i] = dicc[j]['debedecir']"
   ]
  },
  {
   "cell_type": "code",
   "execution_count": 99,
   "metadata": {},
   "outputs": [
    {
     "name": "stdout",
     "output_type": "stream",
     "text": [
      "La serie pais tiene 202 registros\n",
      "La serie clima tiene 243 registros\n",
      "\n",
      "En la serie pais se encuentran 13 registros que no están en la serie clima\n",
      "En la serie clima se encuentran 51 registros que no están en la serie gdp\n"
     ]
    }
   ],
   "source": [
    "exgdp, excli = diferencias(gdp.country, cli.country, ns1='pais', ns2=\"clima\")"
   ]
  },
  {
   "cell_type": "markdown",
   "metadata": {},
   "source": [
    "Podríamos continuar limpiando los datasets de forma manual, o quizás encontrar algún otro patrón, pero podemos parar aquí.\n",
    "\n",
    "Consideraremos que el dataset principal será el del World Bank (gdp), ya que cuando lo revisamos, encontramos que solo están los países que reportaron GDP en ese año, lo cual elimina a varios países que si se encuentran en el dataset de clima (por ejemplo, Venezuela o Korea del Norte)"
   ]
  },
  {
   "cell_type": "markdown",
   "metadata": {},
   "source": [
    "# Crear el nuevo dataset unificado\n",
    "\n",
    "Utilizaremos las funciones de \"merge\" que son equivalentes a los **join** de las bases de datos SQL, juntaremos un dataset con el otro, utilizando una llave, es decir, donde ambos coincidan. \n",
    "\n",
    "En este caso, haremos un **inner join** que significa traer los datos de una y otro dataset donde en ambos esté presente el mismo valor, es el equivalente a hacer una *intersección* con diagramas de Venn\n",
    "\n",
    "![](https://www.w3schools.com/sql/img_innerjoin.gif)\n",
    "\n",
    "Artículos sobre **`joins`**\n",
    "\n",
    "* https://www.w3schools.com/sql/sql_join.asp\n",
    "* https://www.dotnettricks.com/learn/sqlserver/different-types-of-sql-joins\n",
    "\n",
    "Diferencias entre **`join`** y **`merge`** en Python Pandas\n",
    "\n",
    "* https://www.shanelynn.ie/merge-join-dataframes-python-pandas-index-1/"
   ]
  },
  {
   "cell_type": "code",
   "execution_count": 100,
   "metadata": {},
   "outputs": [
    {
     "data": {
      "text/html": [
       "<div>\n",
       "<style scoped>\n",
       "    .dataframe tbody tr th:only-of-type {\n",
       "        vertical-align: middle;\n",
       "    }\n",
       "\n",
       "    .dataframe tbody tr th {\n",
       "        vertical-align: top;\n",
       "    }\n",
       "\n",
       "    .dataframe thead th {\n",
       "        text-align: right;\n",
       "    }\n",
       "</style>\n",
       "<table border=\"1\" class=\"dataframe\">\n",
       "  <thead>\n",
       "    <tr style=\"text-align: right;\">\n",
       "      <th></th>\n",
       "      <th>abrev</th>\n",
       "      <th>rank</th>\n",
       "      <th>country</th>\n",
       "      <th>gdp</th>\n",
       "      <th>temp</th>\n",
       "    </tr>\n",
       "  </thead>\n",
       "  <tbody>\n",
       "    <tr>\n",
       "      <th>0</th>\n",
       "      <td>USA</td>\n",
       "      <td>1</td>\n",
       "      <td>united states</td>\n",
       "      <td>19485394.0</td>\n",
       "      <td>10.261083</td>\n",
       "    </tr>\n",
       "    <tr>\n",
       "      <th>1</th>\n",
       "      <td>CHN</td>\n",
       "      <td>2</td>\n",
       "      <td>china</td>\n",
       "      <td>12237700.0</td>\n",
       "      <td>7.077083</td>\n",
       "    </tr>\n",
       "    <tr>\n",
       "      <th>2</th>\n",
       "      <td>JPN</td>\n",
       "      <td>3</td>\n",
       "      <td>japan</td>\n",
       "      <td>4872415.0</td>\n",
       "      <td>12.565667</td>\n",
       "    </tr>\n",
       "    <tr>\n",
       "      <th>3</th>\n",
       "      <td>DEU</td>\n",
       "      <td>4</td>\n",
       "      <td>germany</td>\n",
       "      <td>3693204.0</td>\n",
       "      <td>9.227167</td>\n",
       "    </tr>\n",
       "    <tr>\n",
       "      <th>4</th>\n",
       "      <td>IND</td>\n",
       "      <td>5</td>\n",
       "      <td>india</td>\n",
       "      <td>2650725.0</td>\n",
       "      <td>24.640833</td>\n",
       "    </tr>\n",
       "    <tr>\n",
       "      <th>5</th>\n",
       "      <td>GBR</td>\n",
       "      <td>6</td>\n",
       "      <td>united kingdom</td>\n",
       "      <td>2637866.0</td>\n",
       "      <td>9.185167</td>\n",
       "    </tr>\n",
       "    <tr>\n",
       "      <th>6</th>\n",
       "      <td>FRA</td>\n",
       "      <td>7</td>\n",
       "      <td>france</td>\n",
       "      <td>2582501.0</td>\n",
       "      <td>11.331750</td>\n",
       "    </tr>\n",
       "    <tr>\n",
       "      <th>7</th>\n",
       "      <td>BRA</td>\n",
       "      <td>8</td>\n",
       "      <td>brazil</td>\n",
       "      <td>2053595.0</td>\n",
       "      <td>25.717083</td>\n",
       "    </tr>\n",
       "    <tr>\n",
       "      <th>8</th>\n",
       "      <td>ITA</td>\n",
       "      <td>9</td>\n",
       "      <td>italy</td>\n",
       "      <td>1943835.0</td>\n",
       "      <td>14.079000</td>\n",
       "    </tr>\n",
       "    <tr>\n",
       "      <th>9</th>\n",
       "      <td>CAN</td>\n",
       "      <td>10</td>\n",
       "      <td>canada</td>\n",
       "      <td>1647120.0</td>\n",
       "      <td>-3.176833</td>\n",
       "    </tr>\n",
       "    <tr>\n",
       "      <th>10</th>\n",
       "      <td>RUS</td>\n",
       "      <td>11</td>\n",
       "      <td>russian federation</td>\n",
       "      <td>1578417.0</td>\n",
       "      <td>-3.901750</td>\n",
       "    </tr>\n",
       "    <tr>\n",
       "      <th>11</th>\n",
       "      <td>KOR</td>\n",
       "      <td>12</td>\n",
       "      <td>korea</td>\n",
       "      <td>1530751.0</td>\n",
       "      <td>12.391667</td>\n",
       "    </tr>\n",
       "    <tr>\n",
       "      <th>12</th>\n",
       "      <td>AUS</td>\n",
       "      <td>13</td>\n",
       "      <td>australia</td>\n",
       "      <td>1323421.0</td>\n",
       "      <td>22.024500</td>\n",
       "    </tr>\n",
       "    <tr>\n",
       "      <th>13</th>\n",
       "      <td>ESP</td>\n",
       "      <td>14</td>\n",
       "      <td>spain</td>\n",
       "      <td>1314314.0</td>\n",
       "      <td>14.580000</td>\n",
       "    </tr>\n",
       "    <tr>\n",
       "      <th>14</th>\n",
       "      <td>MEX</td>\n",
       "      <td>15</td>\n",
       "      <td>mexico</td>\n",
       "      <td>1150888.0</td>\n",
       "      <td>21.652417</td>\n",
       "    </tr>\n",
       "  </tbody>\n",
       "</table>\n",
       "</div>"
      ],
      "text/plain": [
       "   abrev  rank             country         gdp       temp\n",
       "0    USA     1       united states  19485394.0  10.261083\n",
       "1    CHN     2               china  12237700.0   7.077083\n",
       "2    JPN     3               japan   4872415.0  12.565667\n",
       "3    DEU     4             germany   3693204.0   9.227167\n",
       "4    IND     5               india   2650725.0  24.640833\n",
       "5    GBR     6      united kingdom   2637866.0   9.185167\n",
       "6    FRA     7              france   2582501.0  11.331750\n",
       "7    BRA     8              brazil   2053595.0  25.717083\n",
       "8    ITA     9               italy   1943835.0  14.079000\n",
       "9    CAN    10              canada   1647120.0  -3.176833\n",
       "10   RUS    11  russian federation   1578417.0  -3.901750\n",
       "11   KOR    12               korea   1530751.0  12.391667\n",
       "12   AUS    13           australia   1323421.0  22.024500\n",
       "13   ESP    14               spain   1314314.0  14.580000\n",
       "14   MEX    15              mexico   1150888.0  21.652417"
      ]
     },
     "execution_count": 100,
     "metadata": {},
     "output_type": "execute_result"
    }
   ],
   "source": [
    "gdpcli = pd.merge(gdp, cli, how='inner', on='country')\n",
    "gdpcli[:15]"
   ]
  },
  {
   "cell_type": "markdown",
   "metadata": {},
   "source": [
    "Con este dataset podemos graficar lo que queríamos, temperatura vs. producto interno bruto y ver si existe alguna correlación"
   ]
  },
  {
   "cell_type": "code",
   "execution_count": null,
   "metadata": {},
   "outputs": [],
   "source": []
  }
 ],
 "metadata": {
  "kernelspec": {
   "display_name": "Python 3 (ipykernel)",
   "language": "python",
   "name": "python3"
  },
  "language_info": {
   "codemirror_mode": {
    "name": "ipython",
    "version": 3
   },
   "file_extension": ".py",
   "mimetype": "text/x-python",
   "name": "python",
   "nbconvert_exporter": "python",
   "pygments_lexer": "ipython3",
   "version": "3.9.7"
  }
 },
 "nbformat": 4,
 "nbformat_minor": 4
}
